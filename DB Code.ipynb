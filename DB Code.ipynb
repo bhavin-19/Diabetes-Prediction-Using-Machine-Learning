{
 "cells": [
  {
   "cell_type": "markdown",
   "id": "d6b36a8e",
   "metadata": {},
   "source": [
    " "
   ]
  },
  {
   "cell_type": "markdown",
   "id": "d482a09e",
   "metadata": {},
   "source": [
    " "
   ]
  },
  {
   "cell_type": "markdown",
   "id": "f3c25e7d",
   "metadata": {},
   "source": [
    "## <font color='green'>Overview</font>"
   ]
  },
  {
   "cell_type": "markdown",
   "id": "fcea141c",
   "metadata": {},
   "source": [
    "This dataset is originally from the **National Institute of Diabetes and Digestive and Kidney\n",
    "Diseases**. The objective of the dataset is to diagnostically predict whether a patient has diabetes\n",
    "based on certain diagnostic measurements included in the dataset. Several constraints were placed\n",
    "on the selection of these instances from a larger database. In particular, all patients here are females\n",
    "at least 21 years old of Pima Indian heritage.\n",
    "\n",
    "From the data set in the (.csv) File We can find several variables, some of them are independent\n",
    "(several medical predictor variables) and only one target dependent variable (Outcome)."
   ]
  },
  {
   "cell_type": "markdown",
   "id": "1ccad625",
   "metadata": {},
   "source": [
    "#### Importing required libraries"
   ]
  },
  {
   "cell_type": "code",
   "execution_count": 1,
   "id": "4326788c",
   "metadata": {},
   "outputs": [
    {
     "name": "stderr",
     "output_type": "stream",
     "text": [
      "C:\\Users\\bhavin\\anaconda3\\lib\\site-packages\\pandas\\core\\computation\\expressions.py:21: UserWarning: Pandas requires version '2.8.0' or newer of 'numexpr' (version '2.7.3' currently installed).\n",
      "  from pandas.core.computation.check import NUMEXPR_INSTALLED\n",
      "C:\\Users\\bhavin\\anaconda3\\lib\\site-packages\\pandas\\core\\arrays\\masked.py:62: UserWarning: Pandas requires version '1.3.4' or newer of 'bottleneck' (version '1.3.2' currently installed).\n",
      "  from pandas.core import (\n"
     ]
    }
   ],
   "source": [
    "import numpy as np\n",
    "import pandas as pd\n",
    "import seaborn as sns\n",
    "import matplotlib.pyplot as plt\n",
    "\n",
    "from sklearn.linear_model import Logistic Regression\n",
    "from sklearn.model_selection import train_test_split\n",
    "from sklearn.metrics import accuracy_score\n",
    "\n",
    "import warnings\n",
    "import joblib"
   ]
  },
  {
   "cell_type": "markdown",
   "id": "cbf8ef3d",
   "metadata": {},
   "source": [
    "#### Removing the warnings"
   ]
  },
  {
   "cell_type": "code",
   "execution_count": 12,
   "id": "bd4b505d",
   "metadata": {},
   "outputs": [],
   "source": [
    "warnings.filterwarnings('ignore')"
   ]
  },
  {
   "cell_type": "code",
   "execution_count": null,
   "id": "72ac3d82",
   "metadata": {},
   "outputs": [],
   "source": []
  },
  {
   "cell_type": "markdown",
   "id": "992fdf2d",
   "metadata": {},
   "source": [
    "#### Reading the csv file and displaying first 15 records"
   ]
  },
  {
   "cell_type": "code",
   "execution_count": 2,
   "id": "b965d8d5",
   "metadata": {},
   "outputs": [
    {
     "name": "stderr",
     "output_type": "stream",
     "text": [
      "C:\\Users\\bhavin\\AppData\\Local\\Temp/ipykernel_4960/1976286908.py:1: DtypeWarning: Columns (4) have mixed types. Specify dtype option on import or set low_memory=False.\n",
      "  df = pd.read_csv('diabetes.csv')\n"
     ]
    },
    {
     "data": {
      "text/html": [
       "<div>\n",
       "<style scoped>\n",
       "    .dataframe tbody tr th:only-of-type {\n",
       "        vertical-align: middle;\n",
       "    }\n",
       "\n",
       "    .dataframe tbody tr th {\n",
       "        vertical-align: top;\n",
       "    }\n",
       "\n",
       "    .dataframe thead th {\n",
       "        text-align: right;\n",
       "    }\n",
       "</style>\n",
       "<table border=\"1\" class=\"dataframe\">\n",
       "  <thead>\n",
       "    <tr style=\"text-align: right;\">\n",
       "      <th></th>\n",
       "      <th>Pregnancies</th>\n",
       "      <th>Glucose</th>\n",
       "      <th>BloodPressure</th>\n",
       "      <th>SkinThickness</th>\n",
       "      <th>Insulin</th>\n",
       "      <th>BMI</th>\n",
       "      <th>DiabetesPedigreeFunction</th>\n",
       "      <th>Age</th>\n",
       "      <th>Outcome</th>\n",
       "    </tr>\n",
       "  </thead>\n",
       "  <tbody>\n",
       "    <tr>\n",
       "      <th>0</th>\n",
       "      <td>2</td>\n",
       "      <td>83</td>\n",
       "      <td>0</td>\n",
       "      <td>0</td>\n",
       "      <td>0</td>\n",
       "      <td>0.0</td>\n",
       "      <td>0.304</td>\n",
       "      <td>21</td>\n",
       "      <td>0</td>\n",
       "    </tr>\n",
       "    <tr>\n",
       "      <th>1</th>\n",
       "      <td>0</td>\n",
       "      <td>106</td>\n",
       "      <td>52</td>\n",
       "      <td>0</td>\n",
       "      <td>0</td>\n",
       "      <td>25.1</td>\n",
       "      <td>0.078</td>\n",
       "      <td>21</td>\n",
       "      <td>0</td>\n",
       "    </tr>\n",
       "    <tr>\n",
       "      <th>2</th>\n",
       "      <td>1</td>\n",
       "      <td>88</td>\n",
       "      <td>55</td>\n",
       "      <td>0</td>\n",
       "      <td>0</td>\n",
       "      <td>19.1</td>\n",
       "      <td>0.258</td>\n",
       "      <td>21</td>\n",
       "      <td>0</td>\n",
       "    </tr>\n",
       "    <tr>\n",
       "      <th>3</th>\n",
       "      <td>1</td>\n",
       "      <td>99</td>\n",
       "      <td>58</td>\n",
       "      <td>0</td>\n",
       "      <td>0</td>\n",
       "      <td>24.3</td>\n",
       "      <td>0.187</td>\n",
       "      <td>21</td>\n",
       "      <td>0</td>\n",
       "    </tr>\n",
       "    <tr>\n",
       "      <th>4</th>\n",
       "      <td>3</td>\n",
       "      <td>99</td>\n",
       "      <td>62</td>\n",
       "      <td>0</td>\n",
       "      <td>0</td>\n",
       "      <td>22.6</td>\n",
       "      <td>0.142</td>\n",
       "      <td>21</td>\n",
       "      <td>0</td>\n",
       "    </tr>\n",
       "    <tr>\n",
       "      <th>5</th>\n",
       "      <td>2</td>\n",
       "      <td>149</td>\n",
       "      <td>64</td>\n",
       "      <td>0</td>\n",
       "      <td>0</td>\n",
       "      <td>30.8</td>\n",
       "      <td>0.158</td>\n",
       "      <td>21</td>\n",
       "      <td>0</td>\n",
       "    </tr>\n",
       "    <tr>\n",
       "      <th>6</th>\n",
       "      <td>0</td>\n",
       "      <td>150</td>\n",
       "      <td>68</td>\n",
       "      <td>0</td>\n",
       "      <td>0</td>\n",
       "      <td>24.7</td>\n",
       "      <td>0.206</td>\n",
       "      <td>21</td>\n",
       "      <td>0</td>\n",
       "    </tr>\n",
       "    <tr>\n",
       "      <th>7</th>\n",
       "      <td>3</td>\n",
       "      <td>114</td>\n",
       "      <td>78</td>\n",
       "      <td>0</td>\n",
       "      <td>0</td>\n",
       "      <td>42.7</td>\n",
       "      <td>0.559</td>\n",
       "      <td>21</td>\n",
       "      <td>0</td>\n",
       "    </tr>\n",
       "    <tr>\n",
       "      <th>8</th>\n",
       "      <td>0</td>\n",
       "      <td>150</td>\n",
       "      <td>78</td>\n",
       "      <td>0</td>\n",
       "      <td>0</td>\n",
       "      <td>32.4</td>\n",
       "      <td>0.393</td>\n",
       "      <td>21</td>\n",
       "      <td>0</td>\n",
       "    </tr>\n",
       "    <tr>\n",
       "      <th>9</th>\n",
       "      <td>2</td>\n",
       "      <td>141</td>\n",
       "      <td>80</td>\n",
       "      <td>0</td>\n",
       "      <td>0</td>\n",
       "      <td>42.9</td>\n",
       "      <td>0.693</td>\n",
       "      <td>21</td>\n",
       "      <td>1</td>\n",
       "    </tr>\n",
       "    <tr>\n",
       "      <th>10</th>\n",
       "      <td>0</td>\n",
       "      <td>89</td>\n",
       "      <td>96</td>\n",
       "      <td>0</td>\n",
       "      <td>0</td>\n",
       "      <td>22.5</td>\n",
       "      <td>0.262</td>\n",
       "      <td>21</td>\n",
       "      <td>0</td>\n",
       "    </tr>\n",
       "    <tr>\n",
       "      <th>11</th>\n",
       "      <td>2</td>\n",
       "      <td>140</td>\n",
       "      <td>96</td>\n",
       "      <td>0</td>\n",
       "      <td>0</td>\n",
       "      <td>22.6</td>\n",
       "      <td>0.268</td>\n",
       "      <td>21</td>\n",
       "      <td>0</td>\n",
       "    </tr>\n",
       "    <tr>\n",
       "      <th>12</th>\n",
       "      <td>1</td>\n",
       "      <td>117</td>\n",
       "      <td>60</td>\n",
       "      <td>8</td>\n",
       "      <td>182</td>\n",
       "      <td>25.4</td>\n",
       "      <td>0.947</td>\n",
       "      <td>21</td>\n",
       "      <td>0</td>\n",
       "    </tr>\n",
       "    <tr>\n",
       "      <th>13</th>\n",
       "      <td>1</td>\n",
       "      <td>82</td>\n",
       "      <td>50</td>\n",
       "      <td>10</td>\n",
       "      <td>0</td>\n",
       "      <td>23.0</td>\n",
       "      <td>0.248</td>\n",
       "      <td>21</td>\n",
       "      <td>0</td>\n",
       "    </tr>\n",
       "    <tr>\n",
       "      <th>14</th>\n",
       "      <td>1</td>\n",
       "      <td>162</td>\n",
       "      <td>58</td>\n",
       "      <td>10</td>\n",
       "      <td>0</td>\n",
       "      <td>25.4</td>\n",
       "      <td>0.551</td>\n",
       "      <td>21</td>\n",
       "      <td>0</td>\n",
       "    </tr>\n",
       "  </tbody>\n",
       "</table>\n",
       "</div>"
      ],
      "text/plain": [
       "    Pregnancies  Glucose  BloodPressure  SkinThickness Insulin   BMI  \\\n",
       "0             2       83              0              0       0   0.0   \n",
       "1             0      106             52              0       0  25.1   \n",
       "2             1       88             55              0       0  19.1   \n",
       "3             1       99             58              0       0  24.3   \n",
       "4             3       99             62              0       0  22.6   \n",
       "5             2      149             64              0       0  30.8   \n",
       "6             0      150             68              0       0  24.7   \n",
       "7             3      114             78              0       0  42.7   \n",
       "8             0      150             78              0       0  32.4   \n",
       "9             2      141             80              0       0  42.9   \n",
       "10            0       89             96              0       0  22.5   \n",
       "11            2      140             96              0       0  22.6   \n",
       "12            1      117             60              8     182  25.4   \n",
       "13            1       82             50             10       0  23.0   \n",
       "14            1      162             58             10       0  25.4   \n",
       "\n",
       "    DiabetesPedigreeFunction  Age  Outcome  \n",
       "0                      0.304   21        0  \n",
       "1                      0.078   21        0  \n",
       "2                      0.258   21        0  \n",
       "3                      0.187   21        0  \n",
       "4                      0.142   21        0  \n",
       "5                      0.158   21        0  \n",
       "6                      0.206   21        0  \n",
       "7                      0.559   21        0  \n",
       "8                      0.393   21        0  \n",
       "9                      0.693   21        1  \n",
       "10                     0.262   21        0  \n",
       "11                     0.268   21        0  \n",
       "12                     0.947   21        0  \n",
       "13                     0.248   21        0  \n",
       "14                     0.551   21        0  "
      ]
     },
     "execution_count": 2,
     "metadata": {},
     "output_type": "execute_result"
    }
   ],
   "source": [
    "df = pd.read_csv('diabetes.csv')\n",
    "df.head(15)"
   ]
  },
  {
   "cell_type": "code",
   "execution_count": 3,
   "id": "d04b86d8",
   "metadata": {},
   "outputs": [],
   "source": [
    "df['Insulin'] = pd.to_numeric(df['Insulin'], errors='coerce')\n",
    "df['Insulin'].fillna(df['Insulin'].mean(), inplace=True)\n"
   ]
  },
  {
   "cell_type": "markdown",
   "id": "57093e1b",
   "metadata": {},
   "source": [
    "In the above table, following are the independent variable(s):-\n",
    "    \n",
    "   * **Pregnancies:** The number of times a woman has been pregnant.<br><br>\n",
    "   \n",
    "   * **Glucose:** Plasma glucose concentration after a 2-hour oral glucose tolerance test. It is a measure of the blood sugar level.<br><br>\n",
    "   \n",
    "   * **BloodPressure:** Diastolic blood pressure (mm Hg) of the patient.<br><br>\n",
    "   * **SkinThickness:** Thickness of the skinfold at the triceps. It's a measure of subcutaneous fat.<br><br>\n",
    "   * **Insulin:** 2-hour serum insulin level (mu U/ml).<br><br>\n",
    "   * **BMI:** BMI is a measure of body fat based on a person's weight and height.<br><br>\n",
    "   * **DiabetesPedigreeFunction:** It is a function that scores the likelihood of diabetes based on family history.<br><br>\n",
    "   * **Age:** Age of the patient.<br><br><br>\n",
    "\n",
    "Following are the dependent variable(s):-\n",
    "    \n",
    "   * **Outcome:** It has two values: 0 and 1. 0 indicates that the person is not a diabetes patient, while 1 indicates that the person is a diabetes patient."
   ]
  },
  {
   "cell_type": "markdown",
   "id": "cb1c4e90",
   "metadata": {},
   "source": [
    "## <font color='green'>Data Exploration</font>"
   ]
  },
  {
   "cell_type": "markdown",
   "id": "75f7a436",
   "metadata": {},
   "source": [
    "#### Basic metadata of the dataset"
   ]
  },
  {
   "cell_type": "code",
   "execution_count": 4,
   "id": "3f847ee1",
   "metadata": {
    "scrolled": true
   },
   "outputs": [
    {
     "name": "stdout",
     "output_type": "stream",
     "text": [
      "<class 'pandas.core.frame.DataFrame'>\n",
      "RangeIndex: 172928 entries, 0 to 172927\n",
      "Data columns (total 9 columns):\n",
      " #   Column                    Non-Null Count   Dtype  \n",
      "---  ------                    --------------   -----  \n",
      " 0   Pregnancies               172928 non-null  int64  \n",
      " 1   Glucose                   172928 non-null  int64  \n",
      " 2   BloodPressure             172928 non-null  int64  \n",
      " 3   SkinThickness             172928 non-null  int64  \n",
      " 4   Insulin                   172928 non-null  float64\n",
      " 5   BMI                       172928 non-null  float64\n",
      " 6   DiabetesPedigreeFunction  172928 non-null  float64\n",
      " 7   Age                       172928 non-null  int64  \n",
      " 8   Outcome                   172928 non-null  int64  \n",
      "dtypes: float64(3), int64(6)\n",
      "memory usage: 11.9 MB\n"
     ]
    }
   ],
   "source": [
    "df.info()"
   ]
  },
  {
   "cell_type": "markdown",
   "id": "375760e0",
   "metadata": {},
   "source": [
    "#### Number of rows and columns"
   ]
  },
  {
   "cell_type": "code",
   "execution_count": 5,
   "id": "137e0b2d",
   "metadata": {
    "scrolled": true
   },
   "outputs": [
    {
     "data": {
      "text/plain": [
       "(172928, 9)"
      ]
     },
     "execution_count": 5,
     "metadata": {},
     "output_type": "execute_result"
    }
   ],
   "source": [
    "df.shape"
   ]
  },
  {
   "cell_type": "markdown",
   "id": "9499dc42",
   "metadata": {},
   "source": [
    "The above output indicates that this dataset contains **768 rows** and **9 columns**."
   ]
  },
  {
   "cell_type": "markdown",
   "id": "84d1a0ce",
   "metadata": {},
   "source": [
    "#### Checking NA values"
   ]
  },
  {
   "cell_type": "code",
   "execution_count": 6,
   "id": "edd0c5d1",
   "metadata": {
    "scrolled": false
   },
   "outputs": [
    {
     "data": {
      "text/plain": [
       "Pregnancies                 0\n",
       "Glucose                     0\n",
       "BloodPressure               0\n",
       "SkinThickness               0\n",
       "Insulin                     0\n",
       "BMI                         0\n",
       "DiabetesPedigreeFunction    0\n",
       "Age                         0\n",
       "Outcome                     0\n",
       "dtype: int64"
      ]
     },
     "execution_count": 6,
     "metadata": {},
     "output_type": "execute_result"
    }
   ],
   "source": [
    "df.isna().sum()"
   ]
  },
  {
   "cell_type": "markdown",
   "id": "f17d0b83",
   "metadata": {},
   "source": [
    "The above output indicates there isn't any **NA** values present in the columns."
   ]
  },
  {
   "cell_type": "markdown",
   "id": "a4d35be6",
   "metadata": {},
   "source": [
    "#### Average numbers of all columns"
   ]
  },
  {
   "cell_type": "code",
   "execution_count": 7,
   "id": "84f86827",
   "metadata": {
    "scrolled": true
   },
   "outputs": [
    {
     "data": {
      "text/html": [
       "<div>\n",
       "<style scoped>\n",
       "    .dataframe tbody tr th:only-of-type {\n",
       "        vertical-align: middle;\n",
       "    }\n",
       "\n",
       "    .dataframe tbody tr th {\n",
       "        vertical-align: top;\n",
       "    }\n",
       "\n",
       "    .dataframe thead th {\n",
       "        text-align: right;\n",
       "    }\n",
       "</style>\n",
       "<table border=\"1\" class=\"dataframe\">\n",
       "  <thead>\n",
       "    <tr style=\"text-align: right;\">\n",
       "      <th></th>\n",
       "      <th>Pregnancies</th>\n",
       "      <th>Glucose</th>\n",
       "      <th>BloodPressure</th>\n",
       "      <th>SkinThickness</th>\n",
       "      <th>Insulin</th>\n",
       "      <th>BMI</th>\n",
       "      <th>DiabetesPedigreeFunction</th>\n",
       "      <th>Age</th>\n",
       "    </tr>\n",
       "    <tr>\n",
       "      <th>Outcome</th>\n",
       "      <th></th>\n",
       "      <th></th>\n",
       "      <th></th>\n",
       "      <th></th>\n",
       "      <th></th>\n",
       "      <th></th>\n",
       "      <th></th>\n",
       "      <th></th>\n",
       "    </tr>\n",
       "  </thead>\n",
       "  <tbody>\n",
       "    <tr>\n",
       "      <th>0</th>\n",
       "      <td>3.341828</td>\n",
       "      <td>121.528532</td>\n",
       "      <td>67.340166</td>\n",
       "      <td>15.765097</td>\n",
       "      <td>59.489771</td>\n",
       "      <td>29.340499</td>\n",
       "      <td>0.428750</td>\n",
       "      <td>31.049861</td>\n",
       "    </tr>\n",
       "    <tr>\n",
       "      <th>1</th>\n",
       "      <td>4.706800</td>\n",
       "      <td>118.149387</td>\n",
       "      <td>68.278707</td>\n",
       "      <td>16.781494</td>\n",
       "      <td>80.070234</td>\n",
       "      <td>34.371460</td>\n",
       "      <td>0.532397</td>\n",
       "      <td>36.335563</td>\n",
       "    </tr>\n",
       "  </tbody>\n",
       "</table>\n",
       "</div>"
      ],
      "text/plain": [
       "         Pregnancies     Glucose  BloodPressure  SkinThickness    Insulin  \\\n",
       "Outcome                                                                     \n",
       "0           3.341828  121.528532      67.340166      15.765097  59.489771   \n",
       "1           4.706800  118.149387      68.278707      16.781494  80.070234   \n",
       "\n",
       "               BMI  DiabetesPedigreeFunction        Age  \n",
       "Outcome                                                  \n",
       "0        29.340499                  0.428750  31.049861  \n",
       "1        34.371460                  0.532397  36.335563  "
      ]
     },
     "execution_count": 7,
     "metadata": {},
     "output_type": "execute_result"
    }
   ],
   "source": [
    "df.groupby('Outcome').mean()"
   ]
  },
  {
   "cell_type": "markdown",
   "id": "1e8d9dc9",
   "metadata": {},
   "source": [
    "**The above output indicates that:-**\n",
    "\n",
    "  *  **Pregnancies:** On average, individuals with diabetes (Outcome 1) tend to have a higher number of pregnancies compared to those without diabetes (Outcome 0).<br><br>\n",
    "  \n",
    "  * **Glucose:** Individuals with diabetes (Outcome 1) have, on average, a higher glucose level compared to those without diabetes (Outcome 0). This aligns with the general understanding that high glucose levels are associated with diabetes.<br><br>\n",
    "  \n",
    "  * **BloodPressure:** The mean blood pressure is slightly higher for individuals with diabetes (Outcome 1) compared to those without diabetes (Outcome 0).<br><br>\n",
    "  \n",
    "  * **SkinThickness:** On average, individuals with diabetes (Outcome 1) have a higher skinfold thickness compared to those without diabetes (Outcome 0). This might indicate a higher level of subcutaneous fat.<br><br>\n",
    "  \n",
    "  * **Insulin:** Individuals with diabetes (Outcome 1) have a higher mean insulin level compared to those without diabetes (Outcome 0).<br><br>\n",
    "  \n",
    "  * **BMI:** On average, individuals with diabetes (Outcome 1) have a higher BMI compared to those without diabetes (Outcome 0). Higher BMI is often associated with increased risk of diabetes.<br><br>\n",
    "  \n",
    "  * **DiabetesPedigreeFunction:** The mean diabetes pedigree function is higher for individuals with diabetes (Outcome 1) compared to those without diabetes (Outcome 0). This suggests a stronger family history of diabetes in individuals with diabetes.<br><br>\n",
    "  \n",
    "  * **Age:** On average, individuals with diabetes (Outcome 1) are older than those without diabetes (Outcome 0). Age is a known risk factor for diabetes.<br><br>"
   ]
  },
  {
   "cell_type": "markdown",
   "id": "912c1487",
   "metadata": {},
   "source": [
    "#### Correlation matrix and its visualization using heatmap"
   ]
  },
  {
   "cell_type": "code",
   "execution_count": 8,
   "id": "050a0fd3",
   "metadata": {},
   "outputs": [
    {
     "data": {
      "text/html": [
       "<div>\n",
       "<style scoped>\n",
       "    .dataframe tbody tr th:only-of-type {\n",
       "        vertical-align: middle;\n",
       "    }\n",
       "\n",
       "    .dataframe tbody tr th {\n",
       "        vertical-align: top;\n",
       "    }\n",
       "\n",
       "    .dataframe thead th {\n",
       "        text-align: right;\n",
       "    }\n",
       "</style>\n",
       "<table border=\"1\" class=\"dataframe\">\n",
       "  <thead>\n",
       "    <tr style=\"text-align: right;\">\n",
       "      <th></th>\n",
       "      <th>Pregnancies</th>\n",
       "      <th>Glucose</th>\n",
       "      <th>BloodPressure</th>\n",
       "      <th>SkinThickness</th>\n",
       "      <th>Insulin</th>\n",
       "      <th>BMI</th>\n",
       "      <th>DiabetesPedigreeFunction</th>\n",
       "      <th>Age</th>\n",
       "      <th>Outcome</th>\n",
       "    </tr>\n",
       "  </thead>\n",
       "  <tbody>\n",
       "    <tr>\n",
       "      <th>Pregnancies</th>\n",
       "      <td>1.000000</td>\n",
       "      <td>-0.024544</td>\n",
       "      <td>0.130352</td>\n",
       "      <td>-0.124265</td>\n",
       "      <td>-0.103893</td>\n",
       "      <td>0.017731</td>\n",
       "      <td>-0.042563</td>\n",
       "      <td>0.508739</td>\n",
       "      <td>0.199218</td>\n",
       "    </tr>\n",
       "    <tr>\n",
       "      <th>Glucose</th>\n",
       "      <td>-0.024544</td>\n",
       "      <td>1.000000</td>\n",
       "      <td>0.026207</td>\n",
       "      <td>0.021075</td>\n",
       "      <td>0.010869</td>\n",
       "      <td>0.017443</td>\n",
       "      <td>-0.070773</td>\n",
       "      <td>0.010644</td>\n",
       "      <td>-0.049844</td>\n",
       "    </tr>\n",
       "    <tr>\n",
       "      <th>BloodPressure</th>\n",
       "      <td>0.130352</td>\n",
       "      <td>0.026207</td>\n",
       "      <td>1.000000</td>\n",
       "      <td>0.185525</td>\n",
       "      <td>0.087286</td>\n",
       "      <td>0.259450</td>\n",
       "      <td>0.032574</td>\n",
       "      <td>0.221908</td>\n",
       "      <td>0.020943</td>\n",
       "    </tr>\n",
       "    <tr>\n",
       "      <th>SkinThickness</th>\n",
       "      <td>-0.124265</td>\n",
       "      <td>0.021075</td>\n",
       "      <td>0.185525</td>\n",
       "      <td>1.000000</td>\n",
       "      <td>0.495412</td>\n",
       "      <td>0.315551</td>\n",
       "      <td>0.178433</td>\n",
       "      <td>-0.139778</td>\n",
       "      <td>0.031228</td>\n",
       "    </tr>\n",
       "    <tr>\n",
       "      <th>Insulin</th>\n",
       "      <td>-0.103893</td>\n",
       "      <td>0.010869</td>\n",
       "      <td>0.087286</td>\n",
       "      <td>0.495412</td>\n",
       "      <td>1.000000</td>\n",
       "      <td>0.172057</td>\n",
       "      <td>0.173930</td>\n",
       "      <td>-0.066036</td>\n",
       "      <td>0.091536</td>\n",
       "    </tr>\n",
       "    <tr>\n",
       "      <th>BMI</th>\n",
       "      <td>0.017731</td>\n",
       "      <td>0.017443</td>\n",
       "      <td>0.259450</td>\n",
       "      <td>0.315551</td>\n",
       "      <td>0.172057</td>\n",
       "      <td>1.000000</td>\n",
       "      <td>0.111195</td>\n",
       "      <td>0.052833</td>\n",
       "      <td>0.295957</td>\n",
       "    </tr>\n",
       "    <tr>\n",
       "      <th>DiabetesPedigreeFunction</th>\n",
       "      <td>-0.042563</td>\n",
       "      <td>-0.070773</td>\n",
       "      <td>0.032574</td>\n",
       "      <td>0.178433</td>\n",
       "      <td>0.173930</td>\n",
       "      <td>0.111195</td>\n",
       "      <td>1.000000</td>\n",
       "      <td>0.028041</td>\n",
       "      <td>0.150500</td>\n",
       "    </tr>\n",
       "    <tr>\n",
       "      <th>Age</th>\n",
       "      <td>0.508739</td>\n",
       "      <td>0.010644</td>\n",
       "      <td>0.221908</td>\n",
       "      <td>-0.139778</td>\n",
       "      <td>-0.066036</td>\n",
       "      <td>0.052833</td>\n",
       "      <td>0.028041</td>\n",
       "      <td>1.000000</td>\n",
       "      <td>0.220294</td>\n",
       "    </tr>\n",
       "    <tr>\n",
       "      <th>Outcome</th>\n",
       "      <td>0.199218</td>\n",
       "      <td>-0.049844</td>\n",
       "      <td>0.020943</td>\n",
       "      <td>0.031228</td>\n",
       "      <td>0.091536</td>\n",
       "      <td>0.295957</td>\n",
       "      <td>0.150500</td>\n",
       "      <td>0.220294</td>\n",
       "      <td>1.000000</td>\n",
       "    </tr>\n",
       "  </tbody>\n",
       "</table>\n",
       "</div>"
      ],
      "text/plain": [
       "                          Pregnancies   Glucose  BloodPressure  SkinThickness  \\\n",
       "Pregnancies                  1.000000 -0.024544       0.130352      -0.124265   \n",
       "Glucose                     -0.024544  1.000000       0.026207       0.021075   \n",
       "BloodPressure                0.130352  0.026207       1.000000       0.185525   \n",
       "SkinThickness               -0.124265  0.021075       0.185525       1.000000   \n",
       "Insulin                     -0.103893  0.010869       0.087286       0.495412   \n",
       "BMI                          0.017731  0.017443       0.259450       0.315551   \n",
       "DiabetesPedigreeFunction    -0.042563 -0.070773       0.032574       0.178433   \n",
       "Age                          0.508739  0.010644       0.221908      -0.139778   \n",
       "Outcome                      0.199218 -0.049844       0.020943       0.031228   \n",
       "\n",
       "                           Insulin       BMI  DiabetesPedigreeFunction  \\\n",
       "Pregnancies              -0.103893  0.017731                 -0.042563   \n",
       "Glucose                   0.010869  0.017443                 -0.070773   \n",
       "BloodPressure             0.087286  0.259450                  0.032574   \n",
       "SkinThickness             0.495412  0.315551                  0.178433   \n",
       "Insulin                   1.000000  0.172057                  0.173930   \n",
       "BMI                       0.172057  1.000000                  0.111195   \n",
       "DiabetesPedigreeFunction  0.173930  0.111195                  1.000000   \n",
       "Age                      -0.066036  0.052833                  0.028041   \n",
       "Outcome                   0.091536  0.295957                  0.150500   \n",
       "\n",
       "                               Age   Outcome  \n",
       "Pregnancies               0.508739  0.199218  \n",
       "Glucose                   0.010644 -0.049844  \n",
       "BloodPressure             0.221908  0.020943  \n",
       "SkinThickness            -0.139778  0.031228  \n",
       "Insulin                  -0.066036  0.091536  \n",
       "BMI                       0.052833  0.295957  \n",
       "DiabetesPedigreeFunction  0.028041  0.150500  \n",
       "Age                       1.000000  0.220294  \n",
       "Outcome                   0.220294  1.000000  "
      ]
     },
     "metadata": {},
     "output_type": "display_data"
    },
    {
     "data": {
      "text/plain": [
       "<AxesSubplot:>"
      ]
     },
     "execution_count": 8,
     "metadata": {},
     "output_type": "execute_result"
    },
    {
     "data": {
      "image/png": "[encoded data removed]",
      "text/plain": [
       "<Figure size 864x576 with 2 Axes>"
      ]
     },
     "metadata": {
      "needs_background": "light"
     },
     "output_type": "display_data"
    }
   ],
   "source": [
    "plt.figure(figsize=(12,8))\n",
    "correlation = df.corr()\n",
    "display(correlation)\n",
    "sns.heatmap(correlation, cmap=\"viridis\",annot=True)"
   ]
  },
  {
   "cell_type": "markdown",
   "id": "8882bad3",
   "metadata": {},
   "source": [
    "## <font color='green'>Spliting the dataset into training and testing data</font>\n",
    "The dataset is divided into training data and testing data where the test size is 0.3 (30%) which means 30% of data is testing data and 70% data is training data"
   ]
  },
  {
   "cell_type": "code",
   "execution_count": 9,
   "id": "f64afddb",
   "metadata": {},
   "outputs": [],
   "source": [
    "X_train, X_test, Y_train, Y_test = train_test_split(df.drop('Outcome', axis='columns'),df.Outcome,\n",
    "                                                    test_size=0.2, random_state=10, stratify=df.Outcome)"
   ]
  },
  {
   "cell_type": "markdown",
   "id": "a59067ee",
   "metadata": {},
   "source": [
    "<br>"
   ]
  },
  {
   "cell_type": "markdown",
   "id": "618d240f",
   "metadata": {},
   "source": [
    "#### 614 records in training data"
   ]
  },
  {
   "cell_type": "code",
   "execution_count": 10,
   "id": "bab6770f",
   "metadata": {},
   "outputs": [
    {
     "data": {
      "text/plain": [
       "(138342, 8)"
      ]
     },
     "execution_count": 10,
     "metadata": {},
     "output_type": "execute_result"
    }
   ],
   "source": [
    "X_train.shape"
   ]
  },
  {
   "cell_type": "markdown",
   "id": "b1de2b90",
   "metadata": {},
   "source": [
    "#### 154 records in testing data"
   ]
  },
  {
   "cell_type": "code",
   "execution_count": 11,
   "id": "69acf137",
   "metadata": {},
   "outputs": [
    {
     "data": {
      "text/plain": [
       "(34586, 8)"
      ]
     },
     "execution_count": 11,
     "metadata": {},
     "output_type": "execute_result"
    }
   ],
   "source": [
    "X_test.shape"
   ]
  },
  {
   "cell_type": "markdown",
   "id": "0f120230",
   "metadata": {},
   "source": [
    "## <font color='green'>ML Model Preparation</font>"
   ]
  },
  {
   "cell_type": "code",
   "execution_count": 18,
   "id": "f1e4f9aa",
   "metadata": {},
   "outputs": [
    {
     "name": "stdout",
     "output_type": "stream",
     "text": [
      "Testing Accuracy: 1.0\n",
      "              precision    recall  f1-score   support\n",
      "\n",
      "           0       1.00      1.00      1.00     23104\n",
      "           1       1.00      1.00      1.00     11482\n",
      "\n",
      "    accuracy                           1.00     34586\n",
      "   macro avg       1.00      1.00      1.00     34586\n",
      "weighted avg       1.00      1.00      1.00     34586\n",
      "\n"
     ]
    }
   ],
   "source": [
    "from sklearn.ensemble import RandomForestClassifier\n",
    "from sklearn.metrics import accuracy_score,classification_report\n",
    "\n",
    "# Assuming you have your training and testing data X_train, X_test, Y_train, Y_test ready\n",
    "\n",
    "# Initialize the Random Forest classifier\n",
    "model = RandomForestClassifier()\n",
    "\n",
    "# Train the classifier\n",
    "model.fit(X_train, Y_train)\n",
    "\n",
    "# Predict on the testing data\n",
    "Y_pred = model.predict(X_test)\n",
    "\n",
    "# Calculate testing accuracy\n",
    "testing_accuracy = accuracy_score(Y_test, Y_pred)\n",
    "\n",
    "# Print the testing accuracy\n",
    "print(\"Testing Accuracy:\", testing_accuracy)\n",
    "\n",
    "print(classification_report(Y_test, Y_pred))"
   ]
  },
  {
   "cell_type": "markdown",
   "id": "2a605253",
   "metadata": {},
   "source": [
    "#### Predicting the outcome"
   ]
  },
  {
   "cell_type": "code",
   "execution_count": 19,
   "id": "7257a425",
   "metadata": {
    "scrolled": true
   },
   "outputs": [
    {
     "data": {
      "text/plain": [
       "array([0, 0, 1, ..., 0, 0, 0], dtype=int64)"
      ]
     },
     "execution_count": 19,
     "metadata": {},
     "output_type": "execute_result"
    }
   ],
   "source": [
    "prediction = model.predict(X_test)\n",
    "prediction"
   ]
  },
  {
   "cell_type": "markdown",
   "id": "34a185b1",
   "metadata": {},
   "source": [
    "The above array has **0** and **1** value, where:-\n",
    "   * 0: Non-Diabetes patient\n",
    "   * 1: Diabetes patient"
   ]
  },
  {
   "cell_type": "markdown",
   "id": "567aa540",
   "metadata": {},
   "source": [
    "\n",
    "#### Accuracy score"
   ]
  },
  {
   "cell_type": "code",
   "execution_count": 16,
   "id": "df04e4c4",
   "metadata": {},
   "outputs": [
    {
     "data": {
      "text/plain": [
       "0.7165327010929278"
      ]
     },
     "execution_count": 16,
     "metadata": {},
     "output_type": "execute_result"
    }
   ],
   "source": [
    "accuracy = accuracy_score(prediction, Y_test)\n",
    "accuracy"
   ]
  },
  {
   "cell_type": "code",
   "execution_count": 17,
   "id": "c91362bc",
   "metadata": {},
   "outputs": [
    {
     "data": {
      "text/plain": [
       "['Model.sav']"
      ]
     },
     "execution_count": 17,
     "metadata": {},
     "output_type": "execute_result"
    }
   ],
   "source": [
    "filename = 'Model.sav'\n",
    "joblib.dump(model, filename)"
   ]
  },
  {
   "cell_type": "code",
   "execution_count": null,
   "id": "cac8e7e5",
   "metadata": {},
   "outputs": [],
   "source": []
  },
  {
   "cell_type": "code",
   "execution_count": null,
   "id": "b6db54cb",
   "metadata": {},
   "outputs": [],
   "source": [
    "\n"
   ]
  },
  {
   "cell_type": "code",
   "execution_count": null,
   "id": "3ccfeb40",
   "metadata": {},
   "outputs": [],
   "source": []
  },
  {
   "cell_type": "code",
   "execution_count": null,
   "id": "4571b099",
   "metadata": {},
   "outputs": [],
   "source": []
  },
  {
   "cell_type": "code",
   "execution_count": null,
   "id": "3985d2b4",
   "metadata": {},
   "outputs": [],
   "source": []
  },
  {
   "cell_type": "code",
   "execution_count": null,
   "id": "6a28c97f",
   "metadata": {},
   "outputs": [],
   "source": []
  },
  {
   "cell_type": "code",
   "execution_count": null,
   "id": "0d9fabcf",
   "metadata": {},
   "outputs": [],
   "source": []
  }
 ],
 "metadata": {
  "kernelspec": {
   "display_name": "Python 3 (ipykernel)",
   "language": "python",
   "name": "python3"
  },
  "language_info": {
   "codemirror_mode": {
    "name": "ipython",
    "version": 3
   },
   "file_extension": ".py",
   "mimetype": "text/x-python",
   "name": "python",
   "nbconvert_exporter": "python",
   "pygments_lexer": "ipython3",
   "version": "3.9.7"
  }
 },
 "nbformat": 4,
 "nbformat_minor": 5
}
