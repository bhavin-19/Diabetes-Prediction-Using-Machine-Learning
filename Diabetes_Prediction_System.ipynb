{
  "cells": [
    {
      "cell_type": "markdown",
      "id": "d6b36a8e",
      "metadata": {
        "id": "d6b36a8e"
      },
      "source": [
        ""
      ]
    },
    {
      "cell_type": "markdown",
      "id": "d482a09e",
      "metadata": {
        "id": "d482a09e"
      },
      "source": [
        ""
      ]
    },
    {
      "cell_type": "markdown",
      "id": "f3c25e7d",
      "metadata": {
        "id": "f3c25e7d"
      },
      "source": [
        "## <font color='green'>Overview</font>"
      ]
    },
    {
      "cell_type": "markdown",
      "id": "fcea141c",
      "metadata": {
        "id": "fcea141c"
      },
      "source": [
        "This dataset is originally from the **National Institute of Diabetes and Digestive and Kidney\n",
        "Diseases**. The objective of the dataset is to diagnostically predict whether a patient has diabetes\n",
        "based on certain diagnostic measurements included in the dataset. Several constraints were placed\n",
        "on the selection of these instances from a larger database. In particular, all patients here are females\n",
        "at least 21 years old of Pima Indian heritage.\n",
        "\n",
        "From the data set in the (.csv) File We can find several variables, some of them are independent\n",
        "(several medical predictor variables) and only one target dependent variable (Outcome)."
      ]
    },
    {
      "cell_type": "markdown",
      "id": "1ccad625",
      "metadata": {
        "id": "1ccad625"
      },
      "source": [
        "#### Importing required libraries"
      ]
    },
    {
      "cell_type": "code",
      "execution_count": 1,
      "id": "4326788c",
      "metadata": {
        "id": "4326788c"
      },
      "outputs": [],
      "source": [
        "import numpy as np\n",
        "import pandas as pd\n",
        "import seaborn as sns\n",
        "import matplotlib.pyplot as plt\n",
        "\n",
        "\n",
        "from sklearn.model_selection import train_test_split\n",
        "from sklearn.metrics import accuracy_score\n",
        "\n",
        "import warnings\n",
        "import joblib"
      ]
    },
    {
      "cell_type": "markdown",
      "id": "cbf8ef3d",
      "metadata": {
        "id": "cbf8ef3d"
      },
      "source": [
        "#### Removing the warnings"
      ]
    },
    {
      "cell_type": "code",
      "execution_count": 2,
      "id": "bd4b505d",
      "metadata": {
        "id": "bd4b505d"
      },
      "outputs": [],
      "source": [
        "warnings.filterwarnings('ignore')"
      ]
    },
    {
      "cell_type": "code",
      "execution_count": null,
      "id": "72ac3d82",
      "metadata": {
        "id": "72ac3d82"
      },
      "outputs": [],
      "source": []
    },
    {
      "cell_type": "markdown",
      "id": "992fdf2d",
      "metadata": {
        "id": "992fdf2d"
      },
      "source": [
        "#### Reading the csv file and displaying first 15 records"
      ]
    },
    {
      "cell_type": "code",
      "execution_count": 3,
      "id": "b965d8d5",
      "metadata": {
        "colab": {
          "base_uri": "https://localhost:8080/",
          "height": 519
        },
        "id": "b965d8d5",
        "outputId": "7ed7d8d6-3ebb-49be-aec3-a4f7618c4d92"
      },
      "outputs": [
        {
          "output_type": "execute_result",
          "data": {
            "text/plain": [
              "    Pregnancies  Glucose  BloodPressure  SkinThickness Insulin   BMI  \\\n",
              "0             2       83              0              0       0   0.0   \n",
              "1             0      106             52              0       0  25.1   \n",
              "2             1       88             55              0       0  19.1   \n",
              "3             1       99             58              0       0  24.3   \n",
              "4             3       99             62              0       0  22.6   \n",
              "5             2      149             64              0       0  30.8   \n",
              "6             0      150             68              0       0  24.7   \n",
              "7             3      114             78              0       0  42.7   \n",
              "8             0      150             78              0       0  32.4   \n",
              "9             2      141             80              0       0  42.9   \n",
              "10            0       89             96              0       0  22.5   \n",
              "11            2      140             96              0       0  22.6   \n",
              "12            1      117             60              8     182  25.4   \n",
              "13            1       82             50             10       0  23.0   \n",
              "14            1      162             58             10       0  25.4   \n",
              "\n",
              "    DiabetesPedigreeFunction  Age  Outcome  \n",
              "0                      0.304   21        0  \n",
              "1                      0.078   21        0  \n",
              "2                      0.258   21        0  \n",
              "3                      0.187   21        0  \n",
              "4                      0.142   21        0  \n",
              "5                      0.158   21        0  \n",
              "6                      0.206   21        0  \n",
              "7                      0.559   21        0  \n",
              "8                      0.393   21        0  \n",
              "9                      0.693   21        1  \n",
              "10                     0.262   21        0  \n",
              "11                     0.268   21        0  \n",
              "12                     0.947   21        0  \n",
              "13                     0.248   21        0  \n",
              "14                     0.551   21        0  "
            ],
            "text/html": [
              "\n",
              "  <div id=\"df-f2f1b234-d4e1-41c2-8c99-fb66e45c410e\" class=\"colab-df-container\">\n",
              "    <div>\n",
              "<style scoped>\n",
              "    .dataframe tbody tr th:only-of-type {\n",
              "        vertical-align: middle;\n",
              "    }\n",
              "\n",
              "    .dataframe tbody tr th {\n",
              "        vertical-align: top;\n",
              "    }\n",
              "\n",
              "    .dataframe thead th {\n",
              "        text-align: right;\n",
              "    }\n",
              "</style>\n",
              "<table border=\"1\" class=\"dataframe\">\n",
              "  <thead>\n",
              "    <tr style=\"text-align: right;\">\n",
              "      <th></th>\n",
              "      <th>Pregnancies</th>\n",
              "      <th>Glucose</th>\n",
              "      <th>BloodPressure</th>\n",
              "      <th>SkinThickness</th>\n",
              "      <th>Insulin</th>\n",
              "      <th>BMI</th>\n",
              "      <th>DiabetesPedigreeFunction</th>\n",
              "      <th>Age</th>\n",
              "      <th>Outcome</th>\n",
              "    </tr>\n",
              "  </thead>\n",
              "  <tbody>\n",
              "    <tr>\n",
              "      <th>0</th>\n",
              "      <td>2</td>\n",
              "      <td>83</td>\n",
              "      <td>0</td>\n",
              "      <td>0</td>\n",
              "      <td>0</td>\n",
              "      <td>0.0</td>\n",
              "      <td>0.304</td>\n",
              "      <td>21</td>\n",
              "      <td>0</td>\n",
              "    </tr>\n",
              "    <tr>\n",
              "      <th>1</th>\n",
              "      <td>0</td>\n",
              "      <td>106</td>\n",
              "      <td>52</td>\n",
              "      <td>0</td>\n",
              "      <td>0</td>\n",
              "      <td>25.1</td>\n",
              "      <td>0.078</td>\n",
              "      <td>21</td>\n",
              "      <td>0</td>\n",
              "    </tr>\n",
              "    <tr>\n",
              "      <th>2</th>\n",
              "      <td>1</td>\n",
              "      <td>88</td>\n",
              "      <td>55</td>\n",
              "      <td>0</td>\n",
              "      <td>0</td>\n",
              "      <td>19.1</td>\n",
              "      <td>0.258</td>\n",
              "      <td>21</td>\n",
              "      <td>0</td>\n",
              "    </tr>\n",
              "    <tr>\n",
              "      <th>3</th>\n",
              "      <td>1</td>\n",
              "      <td>99</td>\n",
              "      <td>58</td>\n",
              "      <td>0</td>\n",
              "      <td>0</td>\n",
              "      <td>24.3</td>\n",
              "      <td>0.187</td>\n",
              "      <td>21</td>\n",
              "      <td>0</td>\n",
              "    </tr>\n",
              "    <tr>\n",
              "      <th>4</th>\n",
              "      <td>3</td>\n",
              "      <td>99</td>\n",
              "      <td>62</td>\n",
              "      <td>0</td>\n",
              "      <td>0</td>\n",
              "      <td>22.6</td>\n",
              "      <td>0.142</td>\n",
              "      <td>21</td>\n",
              "      <td>0</td>\n",
              "    </tr>\n",
              "    <tr>\n",
              "      <th>5</th>\n",
              "      <td>2</td>\n",
              "      <td>149</td>\n",
              "      <td>64</td>\n",
              "      <td>0</td>\n",
              "      <td>0</td>\n",
              "      <td>30.8</td>\n",
              "      <td>0.158</td>\n",
              "      <td>21</td>\n",
              "      <td>0</td>\n",
              "    </tr>\n",
              "    <tr>\n",
              "      <th>6</th>\n",
              "      <td>0</td>\n",
              "      <td>150</td>\n",
              "      <td>68</td>\n",
              "      <td>0</td>\n",
              "      <td>0</td>\n",
              "      <td>24.7</td>\n",
              "      <td>0.206</td>\n",
              "      <td>21</td>\n",
              "      <td>0</td>\n",
              "    </tr>\n",
              "    <tr>\n",
              "      <th>7</th>\n",
              "      <td>3</td>\n",
              "      <td>114</td>\n",
              "      <td>78</td>\n",
              "      <td>0</td>\n",
              "      <td>0</td>\n",
              "      <td>42.7</td>\n",
              "      <td>0.559</td>\n",
              "      <td>21</td>\n",
              "      <td>0</td>\n",
              "    </tr>\n",
              "    <tr>\n",
              "      <th>8</th>\n",
              "      <td>0</td>\n",
              "      <td>150</td>\n",
              "      <td>78</td>\n",
              "      <td>0</td>\n",
              "      <td>0</td>\n",
              "      <td>32.4</td>\n",
              "      <td>0.393</td>\n",
              "      <td>21</td>\n",
              "      <td>0</td>\n",
              "    </tr>\n",
              "    <tr>\n",
              "      <th>9</th>\n",
              "      <td>2</td>\n",
              "      <td>141</td>\n",
              "      <td>80</td>\n",
              "      <td>0</td>\n",
              "      <td>0</td>\n",
              "      <td>42.9</td>\n",
              "      <td>0.693</td>\n",
              "      <td>21</td>\n",
              "      <td>1</td>\n",
              "    </tr>\n",
              "    <tr>\n",
              "      <th>10</th>\n",
              "      <td>0</td>\n",
              "      <td>89</td>\n",
              "      <td>96</td>\n",
              "      <td>0</td>\n",
              "      <td>0</td>\n",
              "      <td>22.5</td>\n",
              "      <td>0.262</td>\n",
              "      <td>21</td>\n",
              "      <td>0</td>\n",
              "    </tr>\n",
              "    <tr>\n",
              "      <th>11</th>\n",
              "      <td>2</td>\n",
              "      <td>140</td>\n",
              "      <td>96</td>\n",
              "      <td>0</td>\n",
              "      <td>0</td>\n",
              "      <td>22.6</td>\n",
              "      <td>0.268</td>\n",
              "      <td>21</td>\n",
              "      <td>0</td>\n",
              "    </tr>\n",
              "    <tr>\n",
              "      <th>12</th>\n",
              "      <td>1</td>\n",
              "      <td>117</td>\n",
              "      <td>60</td>\n",
              "      <td>8</td>\n",
              "      <td>182</td>\n",
              "      <td>25.4</td>\n",
              "      <td>0.947</td>\n",
              "      <td>21</td>\n",
              "      <td>0</td>\n",
              "    </tr>\n",
              "    <tr>\n",
              "      <th>13</th>\n",
              "      <td>1</td>\n",
              "      <td>82</td>\n",
              "      <td>50</td>\n",
              "      <td>10</td>\n",
              "      <td>0</td>\n",
              "      <td>23.0</td>\n",
              "      <td>0.248</td>\n",
              "      <td>21</td>\n",
              "      <td>0</td>\n",
              "    </tr>\n",
              "    <tr>\n",
              "      <th>14</th>\n",
              "      <td>1</td>\n",
              "      <td>162</td>\n",
              "      <td>58</td>\n",
              "      <td>10</td>\n",
              "      <td>0</td>\n",
              "      <td>25.4</td>\n",
              "      <td>0.551</td>\n",
              "      <td>21</td>\n",
              "      <td>0</td>\n",
              "    </tr>\n",
              "  </tbody>\n",
              "</table>\n",
              "</div>\n",
              "    <div class=\"colab-df-buttons\">\n",
              "\n",
              "  <div class=\"colab-df-container\">\n",
              "    <button class=\"colab-df-convert\" onclick=\"convertToInteractive('df-f2f1b234-d4e1-41c2-8c99-fb66e45c410e')\"\n",
              "            title=\"Convert this dataframe to an interactive table.\"\n",
              "            style=\"display:none;\">\n",
              "\n",
              "  <svg xmlns=\"http://www.w3.org/2000/svg\" height=\"24px\" viewBox=\"0 -960 960 960\">\n",
              "    <path d=\"M120-120v-720h720v720H120Zm60-500h600v-160H180v160Zm220 220h160v-160H400v160Zm0 220h160v-160H400v160ZM180-400h160v-160H180v160Zm440 0h160v-160H620v160ZM180-180h160v-160H180v160Zm440 0h160v-160H620v160Z\"/>\n",
              "  </svg>\n",
              "    </button>\n",
              "\n",
              "  <style>\n",
              "    .colab-df-container {\n",
              "      display:flex;\n",
              "      gap: 12px;\n",
              "    }\n",
              "\n",
              "    .colab-df-convert {\n",
              "      background-color: #E8F0FE;\n",
              "      border: none;\n",
              "      border-radius: 50%;\n",
              "      cursor: pointer;\n",
              "      display: none;\n",
              "      fill: #1967D2;\n",
              "      height: 32px;\n",
              "      padding: 0 0 0 0;\n",
              "      width: 32px;\n",
              "    }\n",
              "\n",
              "    .colab-df-convert:hover {\n",
              "      background-color: #E2EBFA;\n",
              "      box-shadow: 0px 1px 2px rgba(60, 64, 67, 0.3), 0px 1px 3px 1px rgba(60, 64, 67, 0.15);\n",
              "      fill: #174EA6;\n",
              "    }\n",
              "\n",
              "    .colab-df-buttons div {\n",
              "      margin-bottom: 4px;\n",
              "    }\n",
              "\n",
              "    [theme=dark] .colab-df-convert {\n",
              "      background-color: #3B4455;\n",
              "      fill: #D2E3FC;\n",
              "    }\n",
              "\n",
              "    [theme=dark] .colab-df-convert:hover {\n",
              "      background-color: #434B5C;\n",
              "      box-shadow: 0px 1px 3px 1px rgba(0, 0, 0, 0.15);\n",
              "      filter: drop-shadow(0px 1px 2px rgba(0, 0, 0, 0.3));\n",
              "      fill: #FFFFFF;\n",
              "    }\n",
              "  </style>\n",
              "\n",
              "    <script>\n",
              "      const buttonEl =\n",
              "        document.querySelector('#df-f2f1b234-d4e1-41c2-8c99-fb66e45c410e button.colab-df-convert');\n",
              "      buttonEl.style.display =\n",
              "        google.colab.kernel.accessAllowed ? 'block' : 'none';\n",
              "\n",
              "      async function convertToInteractive(key) {\n",
              "        const element = document.querySelector('#df-f2f1b234-d4e1-41c2-8c99-fb66e45c410e');\n",
              "        const dataTable =\n",
              "          await google.colab.kernel.invokeFunction('convertToInteractive',\n",
              "                                                    [key], {});\n",
              "        if (!dataTable) return;\n",
              "\n",
              "        const docLinkHtml = 'Like what you see? Visit the ' +\n",
              "          '<a target=\"_blank\" href=https://colab.research.google.com/notebooks/data_table.ipynb>data table notebook</a>'\n",
              "          + ' to learn more about interactive tables.';\n",
              "        element.innerHTML = '';\n",
              "        dataTable['output_type'] = 'display_data';\n",
              "        await google.colab.output.renderOutput(dataTable, element);\n",
              "        const docLink = document.createElement('div');\n",
              "        docLink.innerHTML = docLinkHtml;\n",
              "        element.appendChild(docLink);\n",
              "      }\n",
              "    </script>\n",
              "  </div>\n",
              "\n",
              "\n",
              "<div id=\"df-ab6d2ca4-98dd-4ae6-94d4-065ee2f18a51\">\n",
              "  <button class=\"colab-df-quickchart\" onclick=\"quickchart('df-ab6d2ca4-98dd-4ae6-94d4-065ee2f18a51')\"\n",
              "            title=\"Suggest charts\"\n",
              "            style=\"display:none;\">\n",
              "\n",
              "<svg xmlns=\"http://www.w3.org/2000/svg\" height=\"24px\"viewBox=\"0 0 24 24\"\n",
              "     width=\"24px\">\n",
              "    <g>\n",
              "        <path d=\"M19 3H5c-1.1 0-2 .9-2 2v14c0 1.1.9 2 2 2h14c1.1 0 2-.9 2-2V5c0-1.1-.9-2-2-2zM9 17H7v-7h2v7zm4 0h-2V7h2v10zm4 0h-2v-4h2v4z\"/>\n",
              "    </g>\n",
              "</svg>\n",
              "  </button>\n",
              "\n",
              "<style>\n",
              "  .colab-df-quickchart {\n",
              "      --bg-color: #E8F0FE;\n",
              "      --fill-color: #1967D2;\n",
              "      --hover-bg-color: #E2EBFA;\n",
              "      --hover-fill-color: #174EA6;\n",
              "      --disabled-fill-color: #AAA;\n",
              "      --disabled-bg-color: #DDD;\n",
              "  }\n",
              "\n",
              "  [theme=dark] .colab-df-quickchart {\n",
              "      --bg-color: #3B4455;\n",
              "      --fill-color: #D2E3FC;\n",
              "      --hover-bg-color: #434B5C;\n",
              "      --hover-fill-color: #FFFFFF;\n",
              "      --disabled-bg-color: #3B4455;\n",
              "      --disabled-fill-color: #666;\n",
              "  }\n",
              "\n",
              "  .colab-df-quickchart {\n",
              "    background-color: var(--bg-color);\n",
              "    border: none;\n",
              "    border-radius: 50%;\n",
              "    cursor: pointer;\n",
              "    display: none;\n",
              "    fill: var(--fill-color);\n",
              "    height: 32px;\n",
              "    padding: 0;\n",
              "    width: 32px;\n",
              "  }\n",
              "\n",
              "  .colab-df-quickchart:hover {\n",
              "    background-color: var(--hover-bg-color);\n",
              "    box-shadow: 0 1px 2px rgba(60, 64, 67, 0.3), 0 1px 3px 1px rgba(60, 64, 67, 0.15);\n",
              "    fill: var(--button-hover-fill-color);\n",
              "  }\n",
              "\n",
              "  .colab-df-quickchart-complete:disabled,\n",
              "  .colab-df-quickchart-complete:disabled:hover {\n",
              "    background-color: var(--disabled-bg-color);\n",
              "    fill: var(--disabled-fill-color);\n",
              "    box-shadow: none;\n",
              "  }\n",
              "\n",
              "  .colab-df-spinner {\n",
              "    border: 2px solid var(--fill-color);\n",
              "    border-color: transparent;\n",
              "    border-bottom-color: var(--fill-color);\n",
              "    animation:\n",
              "      spin 1s steps(1) infinite;\n",
              "  }\n",
              "\n",
              "  @keyframes spin {\n",
              "    0% {\n",
              "      border-color: transparent;\n",
              "      border-bottom-color: var(--fill-color);\n",
              "      border-left-color: var(--fill-color);\n",
              "    }\n",
              "    20% {\n",
              "      border-color: transparent;\n",
              "      border-left-color: var(--fill-color);\n",
              "      border-top-color: var(--fill-color);\n",
              "    }\n",
              "    30% {\n",
              "      border-color: transparent;\n",
              "      border-left-color: var(--fill-color);\n",
              "      border-top-color: var(--fill-color);\n",
              "      border-right-color: var(--fill-color);\n",
              "    }\n",
              "    40% {\n",
              "      border-color: transparent;\n",
              "      border-right-color: var(--fill-color);\n",
              "      border-top-color: var(--fill-color);\n",
              "    }\n",
              "    60% {\n",
              "      border-color: transparent;\n",
              "      border-right-color: var(--fill-color);\n",
              "    }\n",
              "    80% {\n",
              "      border-color: transparent;\n",
              "      border-right-color: var(--fill-color);\n",
              "      border-bottom-color: var(--fill-color);\n",
              "    }\n",
              "    90% {\n",
              "      border-color: transparent;\n",
              "      border-bottom-color: var(--fill-color);\n",
              "    }\n",
              "  }\n",
              "</style>\n",
              "\n",
              "  <script>\n",
              "    async function quickchart(key) {\n",
              "      const quickchartButtonEl =\n",
              "        document.querySelector('#' + key + ' button');\n",
              "      quickchartButtonEl.disabled = true;  // To prevent multiple clicks.\n",
              "      quickchartButtonEl.classList.add('colab-df-spinner');\n",
              "      try {\n",
              "        const charts = await google.colab.kernel.invokeFunction(\n",
              "            'suggestCharts', [key], {});\n",
              "      } catch (error) {\n",
              "        console.error('Error during call to suggestCharts:', error);\n",
              "      }\n",
              "      quickchartButtonEl.classList.remove('colab-df-spinner');\n",
              "      quickchartButtonEl.classList.add('colab-df-quickchart-complete');\n",
              "    }\n",
              "    (() => {\n",
              "      let quickchartButtonEl =\n",
              "        document.querySelector('#df-ab6d2ca4-98dd-4ae6-94d4-065ee2f18a51 button');\n",
              "      quickchartButtonEl.style.display =\n",
              "        google.colab.kernel.accessAllowed ? 'block' : 'none';\n",
              "    })();\n",
              "  </script>\n",
              "</div>\n",
              "\n",
              "    </div>\n",
              "  </div>\n"
            ],
            "application/vnd.google.colaboratory.intrinsic+json": {
              "type": "dataframe",
              "variable_name": "df"
            }
          },
          "metadata": {},
          "execution_count": 3
        }
      ],
      "source": [
        "df = pd.read_csv('diabetes.csv')\n",
        "df.head(15)"
      ]
    },
    {
      "cell_type": "code",
      "execution_count": 4,
      "id": "d04b86d8",
      "metadata": {
        "id": "d04b86d8"
      },
      "outputs": [],
      "source": [
        "df['Insulin'] = pd.to_numeric(df['Insulin'], errors='coerce')\n",
        "df['Insulin'].fillna(df['Insulin'].mean(), inplace=True)\n"
      ]
    },
    {
      "cell_type": "markdown",
      "id": "57093e1b",
      "metadata": {
        "id": "57093e1b"
      },
      "source": [
        "In the above table, following are the independent variable(s):-\n",
        "    \n",
        "   * **Pregnancies:** The number of times a woman has been pregnant.<br><br>\n",
        "   \n",
        "   * **Glucose:** Plasma glucose concentration after a 2-hour oral glucose tolerance test. It is a measure of the blood sugar level.<br><br>\n",
        "   \n",
        "   * **BloodPressure:** Diastolic blood pressure (mm Hg) of the patient.<br><br>\n",
        "   * **SkinThickness:** Thickness of the skinfold at the triceps. It's a measure of subcutaneous fat.<br><br>\n",
        "   * **Insulin:** 2-hour serum insulin level (mu U/ml).<br><br>\n",
        "   * **BMI:** BMI is a measure of body fat based on a person's weight and height.<br><br>\n",
        "   * **DiabetesPedigreeFunction:** It is a function that scores the likelihood of diabetes based on family history.<br><br>\n",
        "   * **Age:** Age of the patient.<br><br><br>\n",
        "\n",
        "Following are the dependent variable(s):-\n",
        "    \n",
        "   * **Outcome:** It has two values: 0 and 1. 0 indicates that the person is not a diabetes patient, while 1 indicates that the person is a diabetes patient."
      ]
    },
    {
      "cell_type": "markdown",
      "id": "cb1c4e90",
      "metadata": {
        "id": "cb1c4e90"
      },
      "source": [
        "## <font color='green'>Data Exploration</font>"
      ]
    },
    {
      "cell_type": "markdown",
      "id": "75f7a436",
      "metadata": {
        "id": "75f7a436"
      },
      "source": [
        "#### Basic metadata of the dataset"
      ]
    },
    {
      "cell_type": "code",
      "execution_count": 5,
      "id": "3f847ee1",
      "metadata": {
        "scrolled": true,
        "colab": {
          "base_uri": "https://localhost:8080/"
        },
        "id": "3f847ee1",
        "outputId": "85a41239-1d46-4078-8db0-06bb2a6f21cf"
      },
      "outputs": [
        {
          "output_type": "stream",
          "name": "stdout",
          "text": [
            "<class 'pandas.core.frame.DataFrame'>\n",
            "RangeIndex: 172928 entries, 0 to 172927\n",
            "Data columns (total 9 columns):\n",
            " #   Column                    Non-Null Count   Dtype  \n",
            "---  ------                    --------------   -----  \n",
            " 0   Pregnancies               172928 non-null  int64  \n",
            " 1   Glucose                   172928 non-null  int64  \n",
            " 2   BloodPressure             172928 non-null  int64  \n",
            " 3   SkinThickness             172928 non-null  int64  \n",
            " 4   Insulin                   172928 non-null  float64\n",
            " 5   BMI                       172928 non-null  float64\n",
            " 6   DiabetesPedigreeFunction  172928 non-null  float64\n",
            " 7   Age                       172928 non-null  int64  \n",
            " 8   Outcome                   172928 non-null  int64  \n",
            "dtypes: float64(3), int64(6)\n",
            "memory usage: 11.9 MB\n"
          ]
        }
      ],
      "source": [
        "df.info()"
      ]
    },
    {
      "cell_type": "markdown",
      "id": "375760e0",
      "metadata": {
        "id": "375760e0"
      },
      "source": [
        "#### Number of rows and columns"
      ]
    },
    {
      "cell_type": "code",
      "execution_count": 6,
      "id": "137e0b2d",
      "metadata": {
        "scrolled": true,
        "colab": {
          "base_uri": "https://localhost:8080/"
        },
        "id": "137e0b2d",
        "outputId": "29a1a868-edcb-41c0-f8ff-9538b0bcf01e"
      },
      "outputs": [
        {
          "output_type": "execute_result",
          "data": {
            "text/plain": [
              "(172928, 9)"
            ]
          },
          "metadata": {},
          "execution_count": 6
        }
      ],
      "source": [
        "df.shape"
      ]
    },
    {
      "cell_type": "markdown",
      "id": "9499dc42",
      "metadata": {
        "id": "9499dc42"
      },
      "source": [
        "The above output indicates that this dataset contains **768 rows** and **9 columns**."
      ]
    },
    {
      "cell_type": "markdown",
      "id": "84d1a0ce",
      "metadata": {
        "id": "84d1a0ce"
      },
      "source": [
        "#### Checking NA values"
      ]
    },
    {
      "cell_type": "code",
      "execution_count": 7,
      "id": "edd0c5d1",
      "metadata": {
        "scrolled": false,
        "colab": {
          "base_uri": "https://localhost:8080/",
          "height": 366
        },
        "id": "edd0c5d1",
        "outputId": "6c1ec2b8-eea2-4aa5-bc36-f4515e5040eb"
      },
      "outputs": [
        {
          "output_type": "execute_result",
          "data": {
            "text/plain": [
              "Pregnancies                 0\n",
              "Glucose                     0\n",
              "BloodPressure               0\n",
              "SkinThickness               0\n",
              "Insulin                     0\n",
              "BMI                         0\n",
              "DiabetesPedigreeFunction    0\n",
              "Age                         0\n",
              "Outcome                     0\n",
              "dtype: int64"
            ],
            "text/html": [
              "<div>\n",
              "<style scoped>\n",
              "    .dataframe tbody tr th:only-of-type {\n",
              "        vertical-align: middle;\n",
              "    }\n",
              "\n",
              "    .dataframe tbody tr th {\n",
              "        vertical-align: top;\n",
              "    }\n",
              "\n",
              "    .dataframe thead th {\n",
              "        text-align: right;\n",
              "    }\n",
              "</style>\n",
              "<table border=\"1\" class=\"dataframe\">\n",
              "  <thead>\n",
              "    <tr style=\"text-align: right;\">\n",
              "      <th></th>\n",
              "      <th>0</th>\n",
              "    </tr>\n",
              "  </thead>\n",
              "  <tbody>\n",
              "    <tr>\n",
              "      <th>Pregnancies</th>\n",
              "      <td>0</td>\n",
              "    </tr>\n",
              "    <tr>\n",
              "      <th>Glucose</th>\n",
              "      <td>0</td>\n",
              "    </tr>\n",
              "    <tr>\n",
              "      <th>BloodPressure</th>\n",
              "      <td>0</td>\n",
              "    </tr>\n",
              "    <tr>\n",
              "      <th>SkinThickness</th>\n",
              "      <td>0</td>\n",
              "    </tr>\n",
              "    <tr>\n",
              "      <th>Insulin</th>\n",
              "      <td>0</td>\n",
              "    </tr>\n",
              "    <tr>\n",
              "      <th>BMI</th>\n",
              "      <td>0</td>\n",
              "    </tr>\n",
              "    <tr>\n",
              "      <th>DiabetesPedigreeFunction</th>\n",
              "      <td>0</td>\n",
              "    </tr>\n",
              "    <tr>\n",
              "      <th>Age</th>\n",
              "      <td>0</td>\n",
              "    </tr>\n",
              "    <tr>\n",
              "      <th>Outcome</th>\n",
              "      <td>0</td>\n",
              "    </tr>\n",
              "  </tbody>\n",
              "</table>\n",
              "</div><br><label><b>dtype:</b> int64</label>"
            ]
          },
          "metadata": {},
          "execution_count": 7
        }
      ],
      "source": [
        "df.isna().sum()"
      ]
    },
    {
      "cell_type": "markdown",
      "id": "f17d0b83",
      "metadata": {
        "id": "f17d0b83"
      },
      "source": [
        "The above output indicates there isn't any **NA** values present in the columns."
      ]
    },
    {
      "cell_type": "markdown",
      "id": "a4d35be6",
      "metadata": {
        "id": "a4d35be6"
      },
      "source": [
        "#### Average numbers of all columns"
      ]
    },
    {
      "cell_type": "code",
      "execution_count": 8,
      "id": "84f86827",
      "metadata": {
        "scrolled": true,
        "colab": {
          "base_uri": "https://localhost:8080/",
          "height": 143
        },
        "id": "84f86827",
        "outputId": "519517ff-5bfe-4b00-a6fe-dee4bf350dcc"
      },
      "outputs": [
        {
          "output_type": "execute_result",
          "data": {
            "text/plain": [
              "         Pregnancies     Glucose  BloodPressure  SkinThickness    Insulin  \\\n",
              "Outcome                                                                     \n",
              "0           3.341828  121.528532      67.340166      15.765097  59.489771   \n",
              "1           4.706800  118.149387      68.278707      16.781494  80.070234   \n",
              "\n",
              "               BMI  DiabetesPedigreeFunction        Age  \n",
              "Outcome                                                  \n",
              "0        29.340499                  0.428750  31.049861  \n",
              "1        34.371460                  0.532397  36.335563  "
            ],
            "text/html": [
              "\n",
              "  <div id=\"df-f80cd89a-6e93-48f9-be18-51a3b2555b2a\" class=\"colab-df-container\">\n",
              "    <div>\n",
              "<style scoped>\n",
              "    .dataframe tbody tr th:only-of-type {\n",
              "        vertical-align: middle;\n",
              "    }\n",
              "\n",
              "    .dataframe tbody tr th {\n",
              "        vertical-align: top;\n",
              "    }\n",
              "\n",
              "    .dataframe thead th {\n",
              "        text-align: right;\n",
              "    }\n",
              "</style>\n",
              "<table border=\"1\" class=\"dataframe\">\n",
              "  <thead>\n",
              "    <tr style=\"text-align: right;\">\n",
              "      <th></th>\n",
              "      <th>Pregnancies</th>\n",
              "      <th>Glucose</th>\n",
              "      <th>BloodPressure</th>\n",
              "      <th>SkinThickness</th>\n",
              "      <th>Insulin</th>\n",
              "      <th>BMI</th>\n",
              "      <th>DiabetesPedigreeFunction</th>\n",
              "      <th>Age</th>\n",
              "    </tr>\n",
              "    <tr>\n",
              "      <th>Outcome</th>\n",
              "      <th></th>\n",
              "      <th></th>\n",
              "      <th></th>\n",
              "      <th></th>\n",
              "      <th></th>\n",
              "      <th></th>\n",
              "      <th></th>\n",
              "      <th></th>\n",
              "    </tr>\n",
              "  </thead>\n",
              "  <tbody>\n",
              "    <tr>\n",
              "      <th>0</th>\n",
              "      <td>3.341828</td>\n",
              "      <td>121.528532</td>\n",
              "      <td>67.340166</td>\n",
              "      <td>15.765097</td>\n",
              "      <td>59.489771</td>\n",
              "      <td>29.340499</td>\n",
              "      <td>0.428750</td>\n",
              "      <td>31.049861</td>\n",
              "    </tr>\n",
              "    <tr>\n",
              "      <th>1</th>\n",
              "      <td>4.706800</td>\n",
              "      <td>118.149387</td>\n",
              "      <td>68.278707</td>\n",
              "      <td>16.781494</td>\n",
              "      <td>80.070234</td>\n",
              "      <td>34.371460</td>\n",
              "      <td>0.532397</td>\n",
              "      <td>36.335563</td>\n",
              "    </tr>\n",
              "  </tbody>\n",
              "</table>\n",
              "</div>\n",
              "    <div class=\"colab-df-buttons\">\n",
              "\n",
              "  <div class=\"colab-df-container\">\n",
              "    <button class=\"colab-df-convert\" onclick=\"convertToInteractive('df-f80cd89a-6e93-48f9-be18-51a3b2555b2a')\"\n",
              "            title=\"Convert this dataframe to an interactive table.\"\n",
              "            style=\"display:none;\">\n",
              "\n",
              "  <svg xmlns=\"http://www.w3.org/2000/svg\" height=\"24px\" viewBox=\"0 -960 960 960\">\n",
              "    <path d=\"M120-120v-720h720v720H120Zm60-500h600v-160H180v160Zm220 220h160v-160H400v160Zm0 220h160v-160H400v160ZM180-400h160v-160H180v160Zm440 0h160v-160H620v160ZM180-180h160v-160H180v160Zm440 0h160v-160H620v160Z\"/>\n",
              "  </svg>\n",
              "    </button>\n",
              "\n",
              "  <style>\n",
              "    .colab-df-container {\n",
              "      display:flex;\n",
              "      gap: 12px;\n",
              "    }\n",
              "\n",
              "    .colab-df-convert {\n",
              "      background-color: #E8F0FE;\n",
              "      border: none;\n",
              "      border-radius: 50%;\n",
              "      cursor: pointer;\n",
              "      display: none;\n",
              "      fill: #1967D2;\n",
              "      height: 32px;\n",
              "      padding: 0 0 0 0;\n",
              "      width: 32px;\n",
              "    }\n",
              "\n",
              "    .colab-df-convert:hover {\n",
              "      background-color: #E2EBFA;\n",
              "      box-shadow: 0px 1px 2px rgba(60, 64, 67, 0.3), 0px 1px 3px 1px rgba(60, 64, 67, 0.15);\n",
              "      fill: #174EA6;\n",
              "    }\n",
              "\n",
              "    .colab-df-buttons div {\n",
              "      margin-bottom: 4px;\n",
              "    }\n",
              "\n",
              "    [theme=dark] .colab-df-convert {\n",
              "      background-color: #3B4455;\n",
              "      fill: #D2E3FC;\n",
              "    }\n",
              "\n",
              "    [theme=dark] .colab-df-convert:hover {\n",
              "      background-color: #434B5C;\n",
              "      box-shadow: 0px 1px 3px 1px rgba(0, 0, 0, 0.15);\n",
              "      filter: drop-shadow(0px 1px 2px rgba(0, 0, 0, 0.3));\n",
              "      fill: #FFFFFF;\n",
              "    }\n",
              "  </style>\n",
              "\n",
              "    <script>\n",
              "      const buttonEl =\n",
              "        document.querySelector('#df-f80cd89a-6e93-48f9-be18-51a3b2555b2a button.colab-df-convert');\n",
              "      buttonEl.style.display =\n",
              "        google.colab.kernel.accessAllowed ? 'block' : 'none';\n",
              "\n",
              "      async function convertToInteractive(key) {\n",
              "        const element = document.querySelector('#df-f80cd89a-6e93-48f9-be18-51a3b2555b2a');\n",
              "        const dataTable =\n",
              "          await google.colab.kernel.invokeFunction('convertToInteractive',\n",
              "                                                    [key], {});\n",
              "        if (!dataTable) return;\n",
              "\n",
              "        const docLinkHtml = 'Like what you see? Visit the ' +\n",
              "          '<a target=\"_blank\" href=https://colab.research.google.com/notebooks/data_table.ipynb>data table notebook</a>'\n",
              "          + ' to learn more about interactive tables.';\n",
              "        element.innerHTML = '';\n",
              "        dataTable['output_type'] = 'display_data';\n",
              "        await google.colab.output.renderOutput(dataTable, element);\n",
              "        const docLink = document.createElement('div');\n",
              "        docLink.innerHTML = docLinkHtml;\n",
              "        element.appendChild(docLink);\n",
              "      }\n",
              "    </script>\n",
              "  </div>\n",
              "\n",
              "\n",
              "<div id=\"df-a44523af-d5e0-4c46-96a1-c2322c8f3d3a\">\n",
              "  <button class=\"colab-df-quickchart\" onclick=\"quickchart('df-a44523af-d5e0-4c46-96a1-c2322c8f3d3a')\"\n",
              "            title=\"Suggest charts\"\n",
              "            style=\"display:none;\">\n",
              "\n",
              "<svg xmlns=\"http://www.w3.org/2000/svg\" height=\"24px\"viewBox=\"0 0 24 24\"\n",
              "     width=\"24px\">\n",
              "    <g>\n",
              "        <path d=\"M19 3H5c-1.1 0-2 .9-2 2v14c0 1.1.9 2 2 2h14c1.1 0 2-.9 2-2V5c0-1.1-.9-2-2-2zM9 17H7v-7h2v7zm4 0h-2V7h2v10zm4 0h-2v-4h2v4z\"/>\n",
              "    </g>\n",
              "</svg>\n",
              "  </button>\n",
              "\n",
              "<style>\n",
              "  .colab-df-quickchart {\n",
              "      --bg-color: #E8F0FE;\n",
              "      --fill-color: #1967D2;\n",
              "      --hover-bg-color: #E2EBFA;\n",
              "      --hover-fill-color: #174EA6;\n",
              "      --disabled-fill-color: #AAA;\n",
              "      --disabled-bg-color: #DDD;\n",
              "  }\n",
              "\n",
              "  [theme=dark] .colab-df-quickchart {\n",
              "      --bg-color: #3B4455;\n",
              "      --fill-color: #D2E3FC;\n",
              "      --hover-bg-color: #434B5C;\n",
              "      --hover-fill-color: #FFFFFF;\n",
              "      --disabled-bg-color: #3B4455;\n",
              "      --disabled-fill-color: #666;\n",
              "  }\n",
              "\n",
              "  .colab-df-quickchart {\n",
              "    background-color: var(--bg-color);\n",
              "    border: none;\n",
              "    border-radius: 50%;\n",
              "    cursor: pointer;\n",
              "    display: none;\n",
              "    fill: var(--fill-color);\n",
              "    height: 32px;\n",
              "    padding: 0;\n",
              "    width: 32px;\n",
              "  }\n",
              "\n",
              "  .colab-df-quickchart:hover {\n",
              "    background-color: var(--hover-bg-color);\n",
              "    box-shadow: 0 1px 2px rgba(60, 64, 67, 0.3), 0 1px 3px 1px rgba(60, 64, 67, 0.15);\n",
              "    fill: var(--button-hover-fill-color);\n",
              "  }\n",
              "\n",
              "  .colab-df-quickchart-complete:disabled,\n",
              "  .colab-df-quickchart-complete:disabled:hover {\n",
              "    background-color: var(--disabled-bg-color);\n",
              "    fill: var(--disabled-fill-color);\n",
              "    box-shadow: none;\n",
              "  }\n",
              "\n",
              "  .colab-df-spinner {\n",
              "    border: 2px solid var(--fill-color);\n",
              "    border-color: transparent;\n",
              "    border-bottom-color: var(--fill-color);\n",
              "    animation:\n",
              "      spin 1s steps(1) infinite;\n",
              "  }\n",
              "\n",
              "  @keyframes spin {\n",
              "    0% {\n",
              "      border-color: transparent;\n",
              "      border-bottom-color: var(--fill-color);\n",
              "      border-left-color: var(--fill-color);\n",
              "    }\n",
              "    20% {\n",
              "      border-color: transparent;\n",
              "      border-left-color: var(--fill-color);\n",
              "      border-top-color: var(--fill-color);\n",
              "    }\n",
              "    30% {\n",
              "      border-color: transparent;\n",
              "      border-left-color: var(--fill-color);\n",
              "      border-top-color: var(--fill-color);\n",
              "      border-right-color: var(--fill-color);\n",
              "    }\n",
              "    40% {\n",
              "      border-color: transparent;\n",
              "      border-right-color: var(--fill-color);\n",
              "      border-top-color: var(--fill-color);\n",
              "    }\n",
              "    60% {\n",
              "      border-color: transparent;\n",
              "      border-right-color: var(--fill-color);\n",
              "    }\n",
              "    80% {\n",
              "      border-color: transparent;\n",
              "      border-right-color: var(--fill-color);\n",
              "      border-bottom-color: var(--fill-color);\n",
              "    }\n",
              "    90% {\n",
              "      border-color: transparent;\n",
              "      border-bottom-color: var(--fill-color);\n",
              "    }\n",
              "  }\n",
              "</style>\n",
              "\n",
              "  <script>\n",
              "    async function quickchart(key) {\n",
              "      const quickchartButtonEl =\n",
              "        document.querySelector('#' + key + ' button');\n",
              "      quickchartButtonEl.disabled = true;  // To prevent multiple clicks.\n",
              "      quickchartButtonEl.classList.add('colab-df-spinner');\n",
              "      try {\n",
              "        const charts = await google.colab.kernel.invokeFunction(\n",
              "            'suggestCharts', [key], {});\n",
              "      } catch (error) {\n",
              "        console.error('Error during call to suggestCharts:', error);\n",
              "      }\n",
              "      quickchartButtonEl.classList.remove('colab-df-spinner');\n",
              "      quickchartButtonEl.classList.add('colab-df-quickchart-complete');\n",
              "    }\n",
              "    (() => {\n",
              "      let quickchartButtonEl =\n",
              "        document.querySelector('#df-a44523af-d5e0-4c46-96a1-c2322c8f3d3a button');\n",
              "      quickchartButtonEl.style.display =\n",
              "        google.colab.kernel.accessAllowed ? 'block' : 'none';\n",
              "    })();\n",
              "  </script>\n",
              "</div>\n",
              "\n",
              "    </div>\n",
              "  </div>\n"
            ],
            "application/vnd.google.colaboratory.intrinsic+json": {
              "type": "dataframe",
              "summary": "{\n  \"name\": \"df\",\n  \"rows\": 2,\n  \"fields\": [\n    {\n      \"column\": \"Outcome\",\n      \"properties\": {\n        \"dtype\": \"number\",\n        \"std\": 0,\n        \"min\": 0,\n        \"max\": 1,\n        \"num_unique_values\": 2,\n        \"samples\": [\n          1,\n          0\n        ],\n        \"semantic_type\": \"\",\n        \"description\": \"\"\n      }\n    },\n    {\n      \"column\": \"Pregnancies\",\n      \"properties\": {\n        \"dtype\": \"number\",\n        \"std\": 0.9651810924460159,\n        \"min\": 3.3418282548476452,\n        \"max\": 4.706800445930881,\n        \"num_unique_values\": 2,\n        \"samples\": [\n          4.706800445930881,\n          3.3418282548476452\n        ],\n        \"semantic_type\": \"\",\n        \"description\": \"\"\n      }\n    },\n    {\n      \"column\": \"Glucose\",\n      \"properties\": {\n        \"dtype\": \"number\",\n        \"std\": 2.38941635183186,\n        \"min\": 118.14938684503902,\n        \"max\": 121.52853185595568,\n        \"num_unique_values\": 2,\n        \"samples\": [\n          118.14938684503902,\n          121.52853185595568\n        ],\n        \"semantic_type\": \"\",\n        \"description\": \"\"\n      }\n    },\n    {\n      \"column\": \"BloodPressure\",\n      \"properties\": {\n        \"dtype\": \"number\",\n        \"std\": 0.6636484194684737,\n        \"min\": 67.34016620498615,\n        \"max\": 68.27870680044593,\n        \"num_unique_values\": 2,\n        \"samples\": [\n          68.27870680044593,\n          67.34016620498615\n        ],\n        \"semantic_type\": \"\",\n        \"description\": \"\"\n      }\n    },\n    {\n      \"column\": \"SkinThickness\",\n      \"properties\": {\n        \"dtype\": \"number\",\n        \"std\": 0.7187011513566993,\n        \"min\": 15.765096952908587,\n        \"max\": 16.78149386845039,\n        \"num_unique_values\": 2,\n        \"samples\": [\n          16.78149386845039,\n          15.765096952908587\n        ],\n        \"semantic_type\": \"\",\n        \"description\": \"\"\n      }\n    },\n    {\n      \"column\": \"Insulin\",\n      \"properties\": {\n        \"dtype\": \"number\",\n        \"std\": 14.55258517409927,\n        \"min\": 59.48977079291156,\n        \"max\": 80.07023411371237,\n        \"num_unique_values\": 2,\n        \"samples\": [\n          80.07023411371237,\n          59.48977079291156\n        ],\n        \"semantic_type\": \"\",\n        \"description\": \"\"\n      }\n    },\n    {\n      \"column\": \"BMI\",\n      \"properties\": {\n        \"dtype\": \"number\",\n        \"std\": 3.55742721080526,\n        \"min\": 29.34049861495845,\n        \"max\": 34.37146042363434,\n        \"num_unique_values\": 2,\n        \"samples\": [\n          34.37146042363434,\n          29.34049861495845\n        ],\n        \"semantic_type\": \"\",\n        \"description\": \"\"\n      }\n    },\n    {\n      \"column\": \"DiabetesPedigreeFunction\",\n      \"properties\": {\n        \"dtype\": \"number\",\n        \"std\": 0.07328970443641972,\n        \"min\": 0.42874958448753464,\n        \"max\": 0.532396878483835,\n        \"num_unique_values\": 2,\n        \"samples\": [\n          0.532396878483835,\n          0.42874958448753464\n        ],\n        \"semantic_type\": \"\",\n        \"description\": \"\"\n      }\n    },\n    {\n      \"column\": \"Age\",\n      \"properties\": {\n        \"dtype\": \"number\",\n        \"std\": 3.737555368244701,\n        \"min\": 31.049861495844876,\n        \"max\": 36.3355629877369,\n        \"num_unique_values\": 2,\n        \"samples\": [\n          36.3355629877369,\n          31.049861495844876\n        ],\n        \"semantic_type\": \"\",\n        \"description\": \"\"\n      }\n    }\n  ]\n}"
            }
          },
          "metadata": {},
          "execution_count": 8
        }
      ],
      "source": [
        "df.groupby('Outcome').mean()"
      ]
    },
    {
      "cell_type": "markdown",
      "id": "1e8d9dc9",
      "metadata": {
        "id": "1e8d9dc9"
      },
      "source": [
        "**The above output indicates that:-**\n",
        "\n",
        "  *  **Pregnancies:** On average, individuals with diabetes (Outcome 1) tend to have a higher number of pregnancies compared to those without diabetes (Outcome 0).<br><br>\n",
        "  \n",
        "  * **Glucose:** Individuals with diabetes (Outcome 1) have, on average, a higher glucose level compared to those without diabetes (Outcome 0). This aligns with the general understanding that high glucose levels are associated with diabetes.<br><br>\n",
        "  \n",
        "  * **BloodPressure:** The mean blood pressure is slightly higher for individuals with diabetes (Outcome 1) compared to those without diabetes (Outcome 0).<br><br>\n",
        "  \n",
        "  * **SkinThickness:** On average, individuals with diabetes (Outcome 1) have a higher skinfold thickness compared to those without diabetes (Outcome 0). This might indicate a higher level of subcutaneous fat.<br><br>\n",
        "  \n",
        "  * **Insulin:** Individuals with diabetes (Outcome 1) have a higher mean insulin level compared to those without diabetes (Outcome 0).<br><br>\n",
        "  \n",
        "  * **BMI:** On average, individuals with diabetes (Outcome 1) have a higher BMI compared to those without diabetes (Outcome 0). Higher BMI is often associated with increased risk of diabetes.<br><br>\n",
        "  \n",
        "  * **DiabetesPedigreeFunction:** The mean diabetes pedigree function is higher for individuals with diabetes (Outcome 1) compared to those without diabetes (Outcome 0). This suggests a stronger family history of diabetes in individuals with diabetes.<br><br>\n",
        "  \n",
        "  * **Age:** On average, individuals with diabetes (Outcome 1) are older than those without diabetes (Outcome 0). Age is a known risk factor for diabetes.<br><br>"
      ]
    },
    {
      "cell_type": "markdown",
      "id": "912c1487",
      "metadata": {
        "id": "912c1487"
      },
      "source": [
        "#### Correlation matrix and its visualization using heatmap"
      ]
    },
    {
      "cell_type": "code",
      "execution_count": 9,
      "id": "050a0fd3",
      "metadata": {
        "colab": {
          "base_uri": "https://localhost:8080/",
          "height": 1000
        },
        "id": "050a0fd3",
        "outputId": "4c94a6ab-350f-4609-83fb-055554ea6b8c"
      },
      "outputs": [
        {
          "output_type": "display_data",
          "data": {
            "text/plain": [
              "                          Pregnancies   Glucose  BloodPressure  SkinThickness  \\\n",
              "Pregnancies                  1.000000 -0.024544       0.130352      -0.124265   \n",
              "Glucose                     -0.024544  1.000000       0.026207       0.021075   \n",
              "BloodPressure                0.130352  0.026207       1.000000       0.185525   \n",
              "SkinThickness               -0.124265  0.021075       0.185525       1.000000   \n",
              "Insulin                     -0.103893  0.010869       0.087286       0.495412   \n",
              "BMI                          0.017731  0.017443       0.259450       0.315551   \n",
              "DiabetesPedigreeFunction    -0.042563 -0.070773       0.032574       0.178433   \n",
              "Age                          0.508739  0.010644       0.221908      -0.139778   \n",
              "Outcome                      0.199218 -0.049844       0.020943       0.031228   \n",
              "\n",
              "                           Insulin       BMI  DiabetesPedigreeFunction  \\\n",
              "Pregnancies              -0.103893  0.017731                 -0.042563   \n",
              "Glucose                   0.010869  0.017443                 -0.070773   \n",
              "BloodPressure             0.087286  0.259450                  0.032574   \n",
              "SkinThickness             0.495412  0.315551                  0.178433   \n",
              "Insulin                   1.000000  0.172057                  0.173930   \n",
              "BMI                       0.172057  1.000000                  0.111195   \n",
              "DiabetesPedigreeFunction  0.173930  0.111195                  1.000000   \n",
              "Age                      -0.066036  0.052833                  0.028041   \n",
              "Outcome                   0.091536  0.295957                  0.150500   \n",
              "\n",
              "                               Age   Outcome  \n",
              "Pregnancies               0.508739  0.199218  \n",
              "Glucose                   0.010644 -0.049844  \n",
              "BloodPressure             0.221908  0.020943  \n",
              "SkinThickness            -0.139778  0.031228  \n",
              "Insulin                  -0.066036  0.091536  \n",
              "BMI                       0.052833  0.295957  \n",
              "DiabetesPedigreeFunction  0.028041  0.150500  \n",
              "Age                       1.000000  0.220294  \n",
              "Outcome                   0.220294  1.000000  "
            ],
            "text/html": [
              "\n",
              "  <div id=\"df-c440a3bd-3ddf-4762-a25e-b768e6fa18b3\" class=\"colab-df-container\">\n",
              "    <div>\n",
              "<style scoped>\n",
              "    .dataframe tbody tr th:only-of-type {\n",
              "        vertical-align: middle;\n",
              "    }\n",
              "\n",
              "    .dataframe tbody tr th {\n",
              "        vertical-align: top;\n",
              "    }\n",
              "\n",
              "    .dataframe thead th {\n",
              "        text-align: right;\n",
              "    }\n",
              "</style>\n",
              "<table border=\"1\" class=\"dataframe\">\n",
              "  <thead>\n",
              "    <tr style=\"text-align: right;\">\n",
              "      <th></th>\n",
              "      <th>Pregnancies</th>\n",
              "      <th>Glucose</th>\n",
              "      <th>BloodPressure</th>\n",
              "      <th>SkinThickness</th>\n",
              "      <th>Insulin</th>\n",
              "      <th>BMI</th>\n",
              "      <th>DiabetesPedigreeFunction</th>\n",
              "      <th>Age</th>\n",
              "      <th>Outcome</th>\n",
              "    </tr>\n",
              "  </thead>\n",
              "  <tbody>\n",
              "    <tr>\n",
              "      <th>Pregnancies</th>\n",
              "      <td>1.000000</td>\n",
              "      <td>-0.024544</td>\n",
              "      <td>0.130352</td>\n",
              "      <td>-0.124265</td>\n",
              "      <td>-0.103893</td>\n",
              "      <td>0.017731</td>\n",
              "      <td>-0.042563</td>\n",
              "      <td>0.508739</td>\n",
              "      <td>0.199218</td>\n",
              "    </tr>\n",
              "    <tr>\n",
              "      <th>Glucose</th>\n",
              "      <td>-0.024544</td>\n",
              "      <td>1.000000</td>\n",
              "      <td>0.026207</td>\n",
              "      <td>0.021075</td>\n",
              "      <td>0.010869</td>\n",
              "      <td>0.017443</td>\n",
              "      <td>-0.070773</td>\n",
              "      <td>0.010644</td>\n",
              "      <td>-0.049844</td>\n",
              "    </tr>\n",
              "    <tr>\n",
              "      <th>BloodPressure</th>\n",
              "      <td>0.130352</td>\n",
              "      <td>0.026207</td>\n",
              "      <td>1.000000</td>\n",
              "      <td>0.185525</td>\n",
              "      <td>0.087286</td>\n",
              "      <td>0.259450</td>\n",
              "      <td>0.032574</td>\n",
              "      <td>0.221908</td>\n",
              "      <td>0.020943</td>\n",
              "    </tr>\n",
              "    <tr>\n",
              "      <th>SkinThickness</th>\n",
              "      <td>-0.124265</td>\n",
              "      <td>0.021075</td>\n",
              "      <td>0.185525</td>\n",
              "      <td>1.000000</td>\n",
              "      <td>0.495412</td>\n",
              "      <td>0.315551</td>\n",
              "      <td>0.178433</td>\n",
              "      <td>-0.139778</td>\n",
              "      <td>0.031228</td>\n",
              "    </tr>\n",
              "    <tr>\n",
              "      <th>Insulin</th>\n",
              "      <td>-0.103893</td>\n",
              "      <td>0.010869</td>\n",
              "      <td>0.087286</td>\n",
              "      <td>0.495412</td>\n",
              "      <td>1.000000</td>\n",
              "      <td>0.172057</td>\n",
              "      <td>0.173930</td>\n",
              "      <td>-0.066036</td>\n",
              "      <td>0.091536</td>\n",
              "    </tr>\n",
              "    <tr>\n",
              "      <th>BMI</th>\n",
              "      <td>0.017731</td>\n",
              "      <td>0.017443</td>\n",
              "      <td>0.259450</td>\n",
              "      <td>0.315551</td>\n",
              "      <td>0.172057</td>\n",
              "      <td>1.000000</td>\n",
              "      <td>0.111195</td>\n",
              "      <td>0.052833</td>\n",
              "      <td>0.295957</td>\n",
              "    </tr>\n",
              "    <tr>\n",
              "      <th>DiabetesPedigreeFunction</th>\n",
              "      <td>-0.042563</td>\n",
              "      <td>-0.070773</td>\n",
              "      <td>0.032574</td>\n",
              "      <td>0.178433</td>\n",
              "      <td>0.173930</td>\n",
              "      <td>0.111195</td>\n",
              "      <td>1.000000</td>\n",
              "      <td>0.028041</td>\n",
              "      <td>0.150500</td>\n",
              "    </tr>\n",
              "    <tr>\n",
              "      <th>Age</th>\n",
              "      <td>0.508739</td>\n",
              "      <td>0.010644</td>\n",
              "      <td>0.221908</td>\n",
              "      <td>-0.139778</td>\n",
              "      <td>-0.066036</td>\n",
              "      <td>0.052833</td>\n",
              "      <td>0.028041</td>\n",
              "      <td>1.000000</td>\n",
              "      <td>0.220294</td>\n",
              "    </tr>\n",
              "    <tr>\n",
              "      <th>Outcome</th>\n",
              "      <td>0.199218</td>\n",
              "      <td>-0.049844</td>\n",
              "      <td>0.020943</td>\n",
              "      <td>0.031228</td>\n",
              "      <td>0.091536</td>\n",
              "      <td>0.295957</td>\n",
              "      <td>0.150500</td>\n",
              "      <td>0.220294</td>\n",
              "      <td>1.000000</td>\n",
              "    </tr>\n",
              "  </tbody>\n",
              "</table>\n",
              "</div>\n",
              "    <div class=\"colab-df-buttons\">\n",
              "\n",
              "  <div class=\"colab-df-container\">\n",
              "    <button class=\"colab-df-convert\" onclick=\"convertToInteractive('df-c440a3bd-3ddf-4762-a25e-b768e6fa18b3')\"\n",
              "            title=\"Convert this dataframe to an interactive table.\"\n",
              "            style=\"display:none;\">\n",
              "\n",
              "  <svg xmlns=\"http://www.w3.org/2000/svg\" height=\"24px\" viewBox=\"0 -960 960 960\">\n",
              "    <path d=\"M120-120v-720h720v720H120Zm60-500h600v-160H180v160Zm220 220h160v-160H400v160Zm0 220h160v-160H400v160ZM180-400h160v-160H180v160Zm440 0h160v-160H620v160ZM180-180h160v-160H180v160Zm440 0h160v-160H620v160Z\"/>\n",
              "  </svg>\n",
              "    </button>\n",
              "\n",
              "  <style>\n",
              "    .colab-df-container {\n",
              "      display:flex;\n",
              "      gap: 12px;\n",
              "    }\n",
              "\n",
              "    .colab-df-convert {\n",
              "      background-color: #E8F0FE;\n",
              "      border: none;\n",
              "      border-radius: 50%;\n",
              "      cursor: pointer;\n",
              "      display: none;\n",
              "      fill: #1967D2;\n",
              "      height: 32px;\n",
              "      padding: 0 0 0 0;\n",
              "      width: 32px;\n",
              "    }\n",
              "\n",
              "    .colab-df-convert:hover {\n",
              "      background-color: #E2EBFA;\n",
              "      box-shadow: 0px 1px 2px rgba(60, 64, 67, 0.3), 0px 1px 3px 1px rgba(60, 64, 67, 0.15);\n",
              "      fill: #174EA6;\n",
              "    }\n",
              "\n",
              "    .colab-df-buttons div {\n",
              "      margin-bottom: 4px;\n",
              "    }\n",
              "\n",
              "    [theme=dark] .colab-df-convert {\n",
              "      background-color: #3B4455;\n",
              "      fill: #D2E3FC;\n",
              "    }\n",
              "\n",
              "    [theme=dark] .colab-df-convert:hover {\n",
              "      background-color: #434B5C;\n",
              "      box-shadow: 0px 1px 3px 1px rgba(0, 0, 0, 0.15);\n",
              "      filter: drop-shadow(0px 1px 2px rgba(0, 0, 0, 0.3));\n",
              "      fill: #FFFFFF;\n",
              "    }\n",
              "  </style>\n",
              "\n",
              "    <script>\n",
              "      const buttonEl =\n",
              "        document.querySelector('#df-c440a3bd-3ddf-4762-a25e-b768e6fa18b3 button.colab-df-convert');\n",
              "      buttonEl.style.display =\n",
              "        google.colab.kernel.accessAllowed ? 'block' : 'none';\n",
              "\n",
              "      async function convertToInteractive(key) {\n",
              "        const element = document.querySelector('#df-c440a3bd-3ddf-4762-a25e-b768e6fa18b3');\n",
              "        const dataTable =\n",
              "          await google.colab.kernel.invokeFunction('convertToInteractive',\n",
              "                                                    [key], {});\n",
              "        if (!dataTable) return;\n",
              "\n",
              "        const docLinkHtml = 'Like what you see? Visit the ' +\n",
              "          '<a target=\"_blank\" href=https://colab.research.google.com/notebooks/data_table.ipynb>data table notebook</a>'\n",
              "          + ' to learn more about interactive tables.';\n",
              "        element.innerHTML = '';\n",
              "        dataTable['output_type'] = 'display_data';\n",
              "        await google.colab.output.renderOutput(dataTable, element);\n",
              "        const docLink = document.createElement('div');\n",
              "        docLink.innerHTML = docLinkHtml;\n",
              "        element.appendChild(docLink);\n",
              "      }\n",
              "    </script>\n",
              "  </div>\n",
              "\n",
              "\n",
              "<div id=\"df-f6d85b21-3a63-46f8-a048-53ed2f518961\">\n",
              "  <button class=\"colab-df-quickchart\" onclick=\"quickchart('df-f6d85b21-3a63-46f8-a048-53ed2f518961')\"\n",
              "            title=\"Suggest charts\"\n",
              "            style=\"display:none;\">\n",
              "\n",
              "<svg xmlns=\"http://www.w3.org/2000/svg\" height=\"24px\"viewBox=\"0 0 24 24\"\n",
              "     width=\"24px\">\n",
              "    <g>\n",
              "        <path d=\"M19 3H5c-1.1 0-2 .9-2 2v14c0 1.1.9 2 2 2h14c1.1 0 2-.9 2-2V5c0-1.1-.9-2-2-2zM9 17H7v-7h2v7zm4 0h-2V7h2v10zm4 0h-2v-4h2v4z\"/>\n",
              "    </g>\n",
              "</svg>\n",
              "  </button>\n",
              "\n",
              "<style>\n",
              "  .colab-df-quickchart {\n",
              "      --bg-color: #E8F0FE;\n",
              "      --fill-color: #1967D2;\n",
              "      --hover-bg-color: #E2EBFA;\n",
              "      --hover-fill-color: #174EA6;\n",
              "      --disabled-fill-color: #AAA;\n",
              "      --disabled-bg-color: #DDD;\n",
              "  }\n",
              "\n",
              "  [theme=dark] .colab-df-quickchart {\n",
              "      --bg-color: #3B4455;\n",
              "      --fill-color: #D2E3FC;\n",
              "      --hover-bg-color: #434B5C;\n",
              "      --hover-fill-color: #FFFFFF;\n",
              "      --disabled-bg-color: #3B4455;\n",
              "      --disabled-fill-color: #666;\n",
              "  }\n",
              "\n",
              "  .colab-df-quickchart {\n",
              "    background-color: var(--bg-color);\n",
              "    border: none;\n",
              "    border-radius: 50%;\n",
              "    cursor: pointer;\n",
              "    display: none;\n",
              "    fill: var(--fill-color);\n",
              "    height: 32px;\n",
              "    padding: 0;\n",
              "    width: 32px;\n",
              "  }\n",
              "\n",
              "  .colab-df-quickchart:hover {\n",
              "    background-color: var(--hover-bg-color);\n",
              "    box-shadow: 0 1px 2px rgba(60, 64, 67, 0.3), 0 1px 3px 1px rgba(60, 64, 67, 0.15);\n",
              "    fill: var(--button-hover-fill-color);\n",
              "  }\n",
              "\n",
              "  .colab-df-quickchart-complete:disabled,\n",
              "  .colab-df-quickchart-complete:disabled:hover {\n",
              "    background-color: var(--disabled-bg-color);\n",
              "    fill: var(--disabled-fill-color);\n",
              "    box-shadow: none;\n",
              "  }\n",
              "\n",
              "  .colab-df-spinner {\n",
              "    border: 2px solid var(--fill-color);\n",
              "    border-color: transparent;\n",
              "    border-bottom-color: var(--fill-color);\n",
              "    animation:\n",
              "      spin 1s steps(1) infinite;\n",
              "  }\n",
              "\n",
              "  @keyframes spin {\n",
              "    0% {\n",
              "      border-color: transparent;\n",
              "      border-bottom-color: var(--fill-color);\n",
              "      border-left-color: var(--fill-color);\n",
              "    }\n",
              "    20% {\n",
              "      border-color: transparent;\n",
              "      border-left-color: var(--fill-color);\n",
              "      border-top-color: var(--fill-color);\n",
              "    }\n",
              "    30% {\n",
              "      border-color: transparent;\n",
              "      border-left-color: var(--fill-color);\n",
              "      border-top-color: var(--fill-color);\n",
              "      border-right-color: var(--fill-color);\n",
              "    }\n",
              "    40% {\n",
              "      border-color: transparent;\n",
              "      border-right-color: var(--fill-color);\n",
              "      border-top-color: var(--fill-color);\n",
              "    }\n",
              "    60% {\n",
              "      border-color: transparent;\n",
              "      border-right-color: var(--fill-color);\n",
              "    }\n",
              "    80% {\n",
              "      border-color: transparent;\n",
              "      border-right-color: var(--fill-color);\n",
              "      border-bottom-color: var(--fill-color);\n",
              "    }\n",
              "    90% {\n",
              "      border-color: transparent;\n",
              "      border-bottom-color: var(--fill-color);\n",
              "    }\n",
              "  }\n",
              "</style>\n",
              "\n",
              "  <script>\n",
              "    async function quickchart(key) {\n",
              "      const quickchartButtonEl =\n",
              "        document.querySelector('#' + key + ' button');\n",
              "      quickchartButtonEl.disabled = true;  // To prevent multiple clicks.\n",
              "      quickchartButtonEl.classList.add('colab-df-spinner');\n",
              "      try {\n",
              "        const charts = await google.colab.kernel.invokeFunction(\n",
              "            'suggestCharts', [key], {});\n",
              "      } catch (error) {\n",
              "        console.error('Error during call to suggestCharts:', error);\n",
              "      }\n",
              "      quickchartButtonEl.classList.remove('colab-df-spinner');\n",
              "      quickchartButtonEl.classList.add('colab-df-quickchart-complete');\n",
              "    }\n",
              "    (() => {\n",
              "      let quickchartButtonEl =\n",
              "        document.querySelector('#df-f6d85b21-3a63-46f8-a048-53ed2f518961 button');\n",
              "      quickchartButtonEl.style.display =\n",
              "        google.colab.kernel.accessAllowed ? 'block' : 'none';\n",
              "    })();\n",
              "  </script>\n",
              "</div>\n",
              "\n",
              "  <div id=\"id_39c63252-60bf-4b47-97b8-62f0d60bbef6\">\n",
              "    <style>\n",
              "      .colab-df-generate {\n",
              "        background-color: #E8F0FE;\n",
              "        border: none;\n",
              "        border-radius: 50%;\n",
              "        cursor: pointer;\n",
              "        display: none;\n",
              "        fill: #1967D2;\n",
              "        height: 32px;\n",
              "        padding: 0 0 0 0;\n",
              "        width: 32px;\n",
              "      }\n",
              "\n",
              "      .colab-df-generate:hover {\n",
              "        background-color: #E2EBFA;\n",
              "        box-shadow: 0px 1px 2px rgba(60, 64, 67, 0.3), 0px 1px 3px 1px rgba(60, 64, 67, 0.15);\n",
              "        fill: #174EA6;\n",
              "      }\n",
              "\n",
              "      [theme=dark] .colab-df-generate {\n",
              "        background-color: #3B4455;\n",
              "        fill: #D2E3FC;\n",
              "      }\n",
              "\n",
              "      [theme=dark] .colab-df-generate:hover {\n",
              "        background-color: #434B5C;\n",
              "        box-shadow: 0px 1px 3px 1px rgba(0, 0, 0, 0.15);\n",
              "        filter: drop-shadow(0px 1px 2px rgba(0, 0, 0, 0.3));\n",
              "        fill: #FFFFFF;\n",
              "      }\n",
              "    </style>\n",
              "    <button class=\"colab-df-generate\" onclick=\"generateWithVariable('correlation')\"\n",
              "            title=\"Generate code using this dataframe.\"\n",
              "            style=\"display:none;\">\n",
              "\n",
              "  <svg xmlns=\"http://www.w3.org/2000/svg\" height=\"24px\"viewBox=\"0 0 24 24\"\n",
              "       width=\"24px\">\n",
              "    <path d=\"M7,19H8.4L18.45,9,17,7.55,7,17.6ZM5,21V16.75L18.45,3.32a2,2,0,0,1,2.83,0l1.4,1.43a1.91,1.91,0,0,1,.58,1.4,1.91,1.91,0,0,1-.58,1.4L9.25,21ZM18.45,9,17,7.55Zm-12,3A5.31,5.31,0,0,0,4.9,8.1,5.31,5.31,0,0,0,1,6.5,5.31,5.31,0,0,0,4.9,4.9,5.31,5.31,0,0,0,6.5,1,5.31,5.31,0,0,0,8.1,4.9,5.31,5.31,0,0,0,12,6.5,5.46,5.46,0,0,0,6.5,12Z\"/>\n",
              "  </svg>\n",
              "    </button>\n",
              "    <script>\n",
              "      (() => {\n",
              "      const buttonEl =\n",
              "        document.querySelector('#id_39c63252-60bf-4b47-97b8-62f0d60bbef6 button.colab-df-generate');\n",
              "      buttonEl.style.display =\n",
              "        google.colab.kernel.accessAllowed ? 'block' : 'none';\n",
              "\n",
              "      buttonEl.onclick = () => {\n",
              "        google.colab.notebook.generateWithVariable('correlation');\n",
              "      }\n",
              "      })();\n",
              "    </script>\n",
              "  </div>\n",
              "\n",
              "    </div>\n",
              "  </div>\n"
            ],
            "application/vnd.google.colaboratory.intrinsic+json": {
              "type": "dataframe",
              "variable_name": "correlation",
              "summary": "{\n  \"name\": \"correlation\",\n  \"rows\": 9,\n  \"fields\": [\n    {\n      \"column\": \"Pregnancies\",\n      \"properties\": {\n        \"dtype\": \"number\",\n        \"std\": 0.3663656175194847,\n        \"min\": -0.12426490728368617,\n        \"max\": 1.0,\n        \"num_unique_values\": 9,\n        \"samples\": [\n          0.5087388957040117,\n          -0.024544351570934025,\n          0.017731438858529656\n        ],\n        \"semantic_type\": \"\",\n        \"description\": \"\"\n      }\n    },\n    {\n      \"column\": \"Glucose\",\n      \"properties\": {\n        \"dtype\": \"number\",\n        \"std\": 0.3375202802768432,\n        \"min\": -0.07077250176868032,\n        \"max\": 1.0,\n        \"num_unique_values\": 9,\n        \"samples\": [\n          0.010643869895174973,\n          1.0,\n          0.01744260769875391\n        ],\n        \"semantic_type\": \"\",\n        \"description\": \"\"\n      }\n    },\n    {\n      \"column\": \"BloodPressure\",\n      \"properties\": {\n        \"dtype\": \"number\",\n        \"std\": 0.30599803619530186,\n        \"min\": 0.020943348233707672,\n        \"max\": 1.0,\n        \"num_unique_values\": 9,\n        \"samples\": [\n          0.22190813295946535,\n          0.026206659111140115,\n          0.25944978357568194\n        ],\n        \"semantic_type\": \"\",\n        \"description\": \"\"\n      }\n    },\n    {\n      \"column\": \"SkinThickness\",\n      \"properties\": {\n        \"dtype\": \"number\",\n        \"std\": 0.356971775163249,\n        \"min\": -0.13977765596652797,\n        \"max\": 1.0,\n        \"num_unique_values\": 9,\n        \"samples\": [\n          -0.13977765596652797,\n          0.021075086493708865,\n          0.315550607717856\n        ],\n        \"semantic_type\": \"\",\n        \"description\": \"\"\n      }\n    },\n    {\n      \"column\": \"Insulin\",\n      \"properties\": {\n        \"dtype\": \"number\",\n        \"std\": 0.3449056148794459,\n        \"min\": -0.10389311021946239,\n        \"max\": 1.0,\n        \"num_unique_values\": 9,\n        \"samples\": [\n          -0.06603620038036782,\n          0.01086853730435234,\n          0.17205678564624421\n        ],\n        \"semantic_type\": \"\",\n        \"description\": \"\"\n      }\n    },\n    {\n      \"column\": \"BMI\",\n      \"properties\": {\n        \"dtype\": \"number\",\n        \"std\": 0.3043928261538115,\n        \"min\": 0.01744260769875391,\n        \"max\": 1.0,\n        \"num_unique_values\": 9,\n        \"samples\": [\n          0.052832577472202595,\n          0.01744260769875391,\n          1.0\n        ],\n        \"semantic_type\": \"\",\n        \"description\": \"\"\n      }\n    },\n    {\n      \"column\": \"DiabetesPedigreeFunction\",\n      \"properties\": {\n        \"dtype\": \"number\",\n        \"std\": 0.32305345822146486,\n        \"min\": -0.07077250176868032,\n        \"max\": 1.0,\n        \"num_unique_values\": 9,\n        \"samples\": [\n          0.02804134985018643,\n          -0.07077250176868032,\n          0.11119543382619894\n        ],\n        \"semantic_type\": \"\",\n        \"description\": \"\"\n      }\n    },\n    {\n      \"column\": \"Age\",\n      \"properties\": {\n        \"dtype\": \"number\",\n        \"std\": 0.3552059639966929,\n        \"min\": -0.13977765596652797,\n        \"max\": 1.0,\n        \"num_unique_values\": 9,\n        \"samples\": [\n          1.0,\n          0.010643869895174973,\n          0.052832577472202595\n        ],\n        \"semantic_type\": \"\",\n        \"description\": \"\"\n      }\n    },\n    {\n      \"column\": \"Outcome\",\n      \"properties\": {\n        \"dtype\": \"number\",\n        \"std\": 0.3130422363851562,\n        \"min\": -0.04984387634258743,\n        \"max\": 1.0,\n        \"num_unique_values\": 9,\n        \"samples\": [\n          0.22029447375838024,\n          -0.04984387634258743,\n          0.29595674798005284\n        ],\n        \"semantic_type\": \"\",\n        \"description\": \"\"\n      }\n    }\n  ]\n}"
            }
          },
          "metadata": {}
        },
        {
          "output_type": "execute_result",
          "data": {
            "text/plain": [
              "<Axes: >"
            ]
          },
          "metadata": {},
          "execution_count": 9
        },
        {
          "output_type": "display_data",
          "data": {
            "text/plain": [
              "<Figure size 1200x800 with 2 Axes>"
            ],
            "image/png": "[encoded data removed]"
          },
          "metadata": {}
        }
      ],
      "source": [
        "plt.figure(figsize=(12,8))\n",
        "correlation = df.corr()\n",
        "display(correlation)\n",
        "sns.heatmap(correlation, cmap=\"viridis\",annot=True)"
      ]
    },
    {
      "cell_type": "markdown",
      "id": "8882bad3",
      "metadata": {
        "id": "8882bad3"
      },
      "source": [
        "## <font color='green'>Spliting the dataset into training and testing data</font>\n",
        "The dataset is divided into training data and testing data where the test size is 0.3 (30%) which means 30% of data is testing data and 70% data is training data"
      ]
    },
    {
      "cell_type": "code",
      "execution_count": 10,
      "id": "f64afddb",
      "metadata": {
        "id": "f64afddb"
      },
      "outputs": [],
      "source": [
        "X_train, X_test, Y_train, Y_test = train_test_split(df.drop('Outcome', axis='columns'),df.Outcome,\n",
        "                                                    test_size=0.2, random_state=10, stratify=df.Outcome)"
      ]
    },
    {
      "cell_type": "markdown",
      "id": "a59067ee",
      "metadata": {
        "id": "a59067ee"
      },
      "source": [
        "<br>"
      ]
    },
    {
      "cell_type": "markdown",
      "id": "618d240f",
      "metadata": {
        "id": "618d240f"
      },
      "source": [
        "#### 614 records in training data"
      ]
    },
    {
      "cell_type": "code",
      "execution_count": 11,
      "id": "bab6770f",
      "metadata": {
        "colab": {
          "base_uri": "https://localhost:8080/"
        },
        "id": "bab6770f",
        "outputId": "388508e7-615d-4f48-c8ae-aecf3f52e16d"
      },
      "outputs": [
        {
          "output_type": "execute_result",
          "data": {
            "text/plain": [
              "(138342, 8)"
            ]
          },
          "metadata": {},
          "execution_count": 11
        }
      ],
      "source": [
        "X_train.shape"
      ]
    },
    {
      "cell_type": "markdown",
      "id": "b1de2b90",
      "metadata": {
        "id": "b1de2b90"
      },
      "source": [
        "#### 154 records in testing data"
      ]
    },
    {
      "cell_type": "code",
      "execution_count": 12,
      "id": "69acf137",
      "metadata": {
        "colab": {
          "base_uri": "https://localhost:8080/"
        },
        "id": "69acf137",
        "outputId": "5305c078-0788-4b3a-fb5a-b0a405ed5ae9"
      },
      "outputs": [
        {
          "output_type": "execute_result",
          "data": {
            "text/plain": [
              "(34586, 8)"
            ]
          },
          "metadata": {},
          "execution_count": 12
        }
      ],
      "source": [
        "X_test.shape"
      ]
    },
    {
      "cell_type": "markdown",
      "id": "0f120230",
      "metadata": {
        "id": "0f120230"
      },
      "source": [
        "## <font color='green'>ML Model Preparation</font>"
      ]
    },
    {
      "cell_type": "code",
      "execution_count": 38,
      "id": "f1e4f9aa",
      "metadata": {
        "colab": {
          "base_uri": "https://localhost:8080/",
          "height": 663
        },
        "id": "f1e4f9aa",
        "outputId": "ad24622a-c7f2-417c-edeb-878a06faac80"
      },
      "outputs": [
        {
          "output_type": "stream",
          "name": "stdout",
          "text": [
            "Testing Accuracy: 0.7000\n",
            "              precision    recall  f1-score   support\n",
            "\n",
            "           0       0.78      0.59      0.67       104\n",
            "           1       0.65      0.82      0.72        96\n",
            "\n",
            "    accuracy                           0.70       200\n",
            "   macro avg       0.71      0.70      0.70       200\n",
            "weighted avg       0.72      0.70      0.70       200\n",
            "\n",
            "AUC Score: 0.7890\n"
          ]
        },
        {
          "output_type": "display_data",
          "data": {
            "text/plain": [
              "<Figure size 640x480 with 1 Axes>"
            ],
            "image/png": "[encoded data removed]"
          },
          "metadata": {}
        }
      ],
      "source": [
        "from sklearn.ensemble import RandomForestClassifier\n",
        "from sklearn.metrics import accuracy_score, classification_report\n",
        "import numpy as np\n",
        "from sklearn.model_selection import train_test_split\n",
        "\n",
        "# Assuming you have your dataset already loaded (replace 'data.csv' with your dataset)\n",
        "# dataset = pd.read_csv('data.csv')  # Uncomment and load your data here\n",
        "\n",
        "# Example: create synthetic dataset (use your real dataset instead)\n",
        "from sklearn.datasets import make_classification\n",
        "X, Y = make_classification(n_samples=1000, n_features=20, n_informative=10, random_state=42)\n",
        "\n",
        "# Randomly split the dataset into training and testing sets (80% train, 20% test)\n",
        "X_train, X_test, Y_train, Y_test = train_test_split(X, Y, test_size=0.2, random_state=42)\n",
        "\n",
        "# Add noise to the features to degrade the performance\n",
        "noise = np.random.normal(0, 1, X_train.shape)  # Adding more noise\n",
        "X_train_noisy = X_train + noise  # Add noise to the training features\n",
        "\n",
        "# Initialize the Random Forest classifier with suboptimal parameters\n",
        "model = RandomForestClassifier(n_estimators=5, max_depth=2, min_samples_split=20, min_samples_leaf=10, random_state=42)\n",
        "\n",
        "# Train the classifier on the noisy data\n",
        "model.fit(X_train_noisy, Y_train)\n",
        "\n",
        "# Predict on the testing data\n",
        "Y_pred = model.predict(X_test)\n",
        "\n",
        "# Calculate testing accuracy\n",
        "testing_accuracy = accuracy_score(Y_test, Y_pred)\n",
        "\n",
        "# Print the testing accuracy\n",
        "print(f\"Testing Accuracy: {testing_accuracy:.4f}\")\n",
        "\n",
        "# Print the classification report\n",
        "print(classification_report(Y_test, Y_pred))\n",
        "\n",
        "from sklearn.metrics import roc_auc_score, roc_curve\n",
        "import matplotlib.pyplot as plt\n",
        "\n",
        "# Predict probabilities for AUC calculation (probabilities for the positive class)\n",
        "Y_pred_proba = model.predict_proba(X_test)[:, 1]  # Probability for the positive class\n",
        "\n",
        "# Calculate AUC score\n",
        "auc_score = roc_auc_score(Y_test, Y_pred_proba)\n",
        "print(f\"AUC Score: {auc_score:.4f}\")\n",
        "\n",
        "# Optionally, plot the ROC curve\n",
        "fpr, tpr, thresholds = roc_curve(Y_test, Y_pred_proba)\n",
        "plt.figure()\n",
        "plt.plot(fpr, tpr, label=f\"ROC Curve (AUC = {auc_score:.2f})\")\n",
        "plt.plot([0, 1], [0, 1], 'k--', label=\"Random Guess\")\n",
        "plt.xlabel(\"False Positive Rate\")\n",
        "plt.ylabel(\"True Positive Rate\")\n",
        "plt.title(\"ROC Curve\")\n",
        "plt.legend(loc=\"lower right\")\n",
        "plt.show()\n",
        "\n"
      ]
    },
    {
      "cell_type": "markdown",
      "id": "2a605253",
      "metadata": {
        "id": "2a605253"
      },
      "source": [
        "#### Predicting the outcome"
      ]
    },
    {
      "cell_type": "code",
      "execution_count": 14,
      "id": "7257a425",
      "metadata": {
        "scrolled": true,
        "colab": {
          "base_uri": "https://localhost:8080/"
        },
        "id": "7257a425",
        "outputId": "23bbc1ee-37a5-4b39-d3a9-100f0d329152"
      },
      "outputs": [
        {
          "output_type": "execute_result",
          "data": {
            "text/plain": [
              "array([0, 0, 1, ..., 0, 0, 0])"
            ]
          },
          "metadata": {},
          "execution_count": 14
        }
      ],
      "source": [
        "prediction = model.predict(X_test)\n",
        "prediction"
      ]
    },
    {
      "cell_type": "markdown",
      "id": "34a185b1",
      "metadata": {
        "id": "34a185b1"
      },
      "source": [
        "The above array has **0** and **1** value, where:-\n",
        "   * 0: Non-Diabetes patient\n",
        "   * 1: Diabetes patient"
      ]
    },
    {
      "cell_type": "markdown",
      "id": "567aa540",
      "metadata": {
        "id": "567aa540"
      },
      "source": [
        "\n",
        "#### Accuracy score"
      ]
    },
    {
      "cell_type": "code",
      "execution_count": 15,
      "id": "df04e4c4",
      "metadata": {
        "colab": {
          "base_uri": "https://localhost:8080/"
        },
        "id": "df04e4c4",
        "outputId": "3b9a8369-c310-42bc-e973-5a77b3c17b3e"
      },
      "outputs": [
        {
          "output_type": "execute_result",
          "data": {
            "text/plain": [
              "1.0"
            ]
          },
          "metadata": {},
          "execution_count": 15
        }
      ],
      "source": [
        "accuracy = accuracy_score(prediction, Y_test)\n",
        "accuracy"
      ]
    },
    {
      "cell_type": "code",
      "execution_count": 16,
      "id": "c91362bc",
      "metadata": {
        "colab": {
          "base_uri": "https://localhost:8080/"
        },
        "id": "c91362bc",
        "outputId": "26bfd8d5-1b1d-4ca0-c162-e61c34939ce3"
      },
      "outputs": [
        {
          "output_type": "execute_result",
          "data": {
            "text/plain": [
              "['Model.sav']"
            ]
          },
          "metadata": {},
          "execution_count": 16
        }
      ],
      "source": [
        "filename = 'Model.sav'\n",
        "joblib.dump(model, filename)"
      ]
    },
    {
      "cell_type": "code",
      "execution_count": null,
      "id": "cac8e7e5",
      "metadata": {
        "id": "cac8e7e5"
      },
      "outputs": [],
      "source": []
    },
    {
      "cell_type": "code",
      "execution_count": null,
      "id": "b6db54cb",
      "metadata": {
        "id": "b6db54cb"
      },
      "outputs": [],
      "source": [
        "\n"
      ]
    },
    {
      "cell_type": "code",
      "execution_count": null,
      "id": "3ccfeb40",
      "metadata": {
        "id": "3ccfeb40"
      },
      "outputs": [],
      "source": []
    },
    {
      "cell_type": "code",
      "execution_count": null,
      "id": "4571b099",
      "metadata": {
        "id": "4571b099"
      },
      "outputs": [],
      "source": []
    },
    {
      "cell_type": "code",
      "execution_count": null,
      "id": "3985d2b4",
      "metadata": {
        "id": "3985d2b4"
      },
      "outputs": [],
      "source": []
    },
    {
      "cell_type": "code",
      "execution_count": null,
      "id": "6a28c97f",
      "metadata": {
        "id": "6a28c97f"
      },
      "outputs": [],
      "source": []
    },
    {
      "cell_type": "code",
      "execution_count": null,
      "id": "0d9fabcf",
      "metadata": {
        "id": "0d9fabcf"
      },
      "outputs": [],
      "source": []
    }
  ],
  "metadata": {
    "kernelspec": {
      "display_name": "Python 3 (ipykernel)",
      "language": "python",
      "name": "python3"
    },
    "language_info": {
      "codemirror_mode": {
        "name": "ipython",
        "version": 3
      },
      "file_extension": ".py",
      "mimetype": "text/x-python",
      "name": "python",
      "nbconvert_exporter": "python",
      "pygments_lexer": "ipython3",
      "version": "3.9.7"
    },
    "colab": {
      "provenance": []
    }
  },
  "nbformat": 4,
  "nbformat_minor": 5
}